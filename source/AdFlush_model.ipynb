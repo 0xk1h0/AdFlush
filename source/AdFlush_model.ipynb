{
 "cells": [
  {
   "cell_type": "markdown",
   "id": "106bb0a7-7100-4eee-9ad2-7e9780fa0130",
   "metadata": {},
   "source": [
    "# AdFlush Model\n",
    "Test AdFlush ONNX, or train and test AdFlush upon H2O"
   ]
  },
  {
   "cell_type": "code",
   "execution_count": null,
   "id": "07d20fd5",
   "metadata": {},
   "outputs": [],
   "source": [
    "import pandas as pd\n",
    "from sklearn.model_selection import train_test_split\n",
    "import matplotlib.pyplot as plt\n",
    "%matplotlib inline\n",
    "from sklearn.metrics import (\n",
    "    confusion_matrix,\n",
    "    accuracy_score,\n",
    "    precision_score,\n",
    "    recall_score,\n",
    "    f1_score,\n",
    "    roc_auc_score\n",
    ")\n",
    "import time"
   ]
  },
  {
   "cell_type": "markdown",
   "id": "024f53cb",
   "metadata": {},
   "source": [
    "Select the dataset to use during the session"
   ]
  },
  {
   "cell_type": "code",
   "execution_count": null,
   "id": "325718f9",
   "metadata": {},
   "outputs": [],
   "source": [
    "# Available datasets\n",
    "testset=\"../dataset/AdFlush_test.csv\"\n",
    "GAN_testset=\"../dataset/GAN_mutated_AdFlush.csv\"\n",
    "gnirts_testset=\"../dataset/JS_obfuscated_gnirts.csv\"\n",
    "javascript_obfuscator_testset=\"../dataset/JS_obfuscated_javascript_obfuscator.csv\"\n",
    "wobfuscator_testset=\"../dataset/JS_obfuscated_wobfuscator.csv\"\n",
    "\n",
    "# Select dataset to import\n",
    "DATASET=testset\n",
    "ISMUTATED=False\n",
    "if DATASET==testset or DATASET==GAN_testset:\n",
    "    data_df=pd.read_csv(DATASET, index_col=0)\n",
    "elif DATASET==gnirts_testset or DATASET==javascript_obfuscator_testset or DATASET==wobfuscator_testset:\n",
    "    js_features=['brackettodot', 'num_get_storage', 'num_set_storage',\n",
    "        'num_get_cookie', 'num_requests_sent', 'ng_0_0_2', 'ng_0_15_15', 'ng_2_13_2',\n",
    "        'ng_15_0_3', 'ng_15_0_15', 'ng_15_15_15', 'avg_ident',\n",
    "        'avg_charperline']\n",
    "    test_df=pd.read_csv(testset,index_col=0)\n",
    "    mutate_df=pd.read_csv(DATASET,index_col=0)\n",
    "    mutate_df=mutate_df[js_features].copy()\n",
    "    mutate_performed=mutate_df.index\n",
    "    test_df=test_df.loc[mutate_performed].copy()\n",
    "    test_df.loc[mutate_performed,js_features]=mutate_df.loc[mutate_performed,js_features]\n",
    "    data_df=test_df.copy()\n",
    "    ISMUTATED=True\n",
    "label=data_df['label'].astype(int)\n",
    "\n",
    "print(\"Using Dataset: \",DATASET)\n",
    "data_df"
   ]
  },
  {
   "cell_type": "code",
   "execution_count": null,
   "id": "2be88864",
   "metadata": {},
   "outputs": [],
   "source": [
    "def metrics(true, pred, _is_mutated):\n",
    "    print(f\"Accuracy : {accuracy_score(true, pred)} \")\n",
    "    print(f\"Precision : {precision_score(true, pred)} \")\n",
    "    print(f\"Recall : {recall_score(true, pred)} \")\n",
    "    print(f\"F1 : {f1_score(true, pred)} \")\n",
    "    # Number of attacks\n",
    "    total_attacks = len(true)\n",
    "    \n",
    "    # Number of successful attacks (misclassifications)\n",
    "    successful_attacks = sum(true != pred)\n",
    "    tn, fp, fn, tp = confusion_matrix(true, pred).ravel()\n",
    "\n",
    "    # Calculate FNR\n",
    "    fnr = fn / (tp + fn)\n",
    "    print('False Negative Rate:', fnr)\n",
    "\n",
    "    # Calculate FPR\n",
    "    fpr = fp / (fp + tn)\n",
    "    print('False Positive Rate:', fpr)\n",
    "    # ASR\n",
    "    if _is_mutated:\n",
    "        asr = successful_attacks / total_attacks\n",
    "        print(\"Attack Success Rate: \",asr)"
   ]
  },
  {
   "cell_type": "markdown",
   "id": "56e5bcae",
   "metadata": {},
   "source": [
    "### 1. AdFlush_ONNX"
   ]
  },
  {
   "cell_type": "code",
   "execution_count": null,
   "id": "fbf6a045",
   "metadata": {},
   "outputs": [],
   "source": [
    "import onnx\n",
    "import onnxruntime as ort\n",
    "import onnxmltools"
   ]
  },
  {
   "cell_type": "code",
   "execution_count": null,
   "id": "cffbf05a",
   "metadata": {},
   "outputs": [],
   "source": [
    "print('Loading Model')\n",
    "model = onnx.load('../model/AdFlush.onnx')\n",
    "# Check that the IR is well formed\n",
    "try:\n",
    "    print(\"Checking model integrity\")\n",
    "    onnx.checker.check_model(model)\n",
    "    # Create an ONNX runtime session\n",
    "    ort_session = ort.InferenceSession('../model/AdFlush.onnx')\n",
    "    input_data = data_df.drop('label', axis=1).values.astype('float32')\n",
    "    input_name = ort_session.get_inputs()[0].name\n",
    "    label_name = ort_session.get_outputs()[0].name\n",
    "\n",
    "    # Run the inference session to get the prediction results\n",
    "    print('Running Inference Session')\n",
    "    start_time=time.time()\n",
    "    pred = ort_session.run([label_name], {input_name: input_data})[0]\n",
    "    print(\"Inference time elapsed: \", time.time()-start_time, \"seconds for \", len(label), \" samples.\")\n",
    "    metrics(label.astype(int),pred.astype(int),ISMUTATED)\n",
    "    print(\"AUROC: \",roc_auc_score(label, pred.astype('float64')))\n",
    "    \n",
    "except Exception as e:\n",
    "    print(\"Error in loading model: \",e)"
   ]
  },
  {
   "cell_type": "markdown",
   "id": "8dfa2781",
   "metadata": {},
   "source": [
    "### 2. AdFlush_H2O_MOJO"
   ]
  },
  {
   "cell_type": "code",
   "execution_count": null,
   "id": "0c7f429c-5b06-4001-9cbb-c0f549c06f8c",
   "metadata": {
    "collapsed": true,
    "jupyter": {
     "outputs_hidden": true
    },
    "tags": []
   },
   "outputs": [],
   "source": [
    "import h2o\n",
    "from h2o.automl import H2OAutoML\n",
    "h2o.init(nthreads = 12, max_mem_size = \"64g\", enable_assertions = False)\n",
    "h2o.no_progress()\n",
    "custom_path=\"\""
   ]
  },
  {
   "cell_type": "markdown",
   "id": "9abb36c7",
   "metadata": {},
   "source": [
    "#### 2-1. Making a new AdFlush with H2O AutoML (optional)"
   ]
  },
  {
   "cell_type": "markdown",
   "id": "7ffda056",
   "metadata": {},
   "source": [
    "##### 2-1-1. Training custom AdFlush"
   ]
  },
  {
   "cell_type": "code",
   "execution_count": null,
   "id": "6d87a5fe-59c9-424a-8030-deea2dbd659a",
   "metadata": {},
   "outputs": [],
   "source": [
    "train=pd.read_csv('../dataset/AdFlush_train.csv',index_col=0)\n",
    "test=data_df.copy() #Use selected Dataset to test\n",
    "train.reset_index(inplace=True, drop=True)\n",
    "test.reset_index(inplace=True, drop=True)\n",
    "\n",
    "y = 'label'\n",
    "x = list(train)\n",
    "x.remove(y)\n",
    "\n",
    "h2o_train = h2o.H2OFrame(train)\n",
    "h2o_test = h2o.H2OFrame(test)\n",
    "\n",
    "h2o_train[y] = h2o_train[y].asfactor()\n",
    "h2o_test[y] = h2o_test[y].asfactor()\n",
    "\n",
    "# Select runtime for exploration\n",
    "MAXRUNTIME=3600\n",
    "aml = H2OAutoML(max_runtime_secs=MAXRUNTIME, max_models=None, exclude_algos=['XGBoost', 'StackedEnsemble'], nfolds=5)\n",
    "# Run below code instead if you want to convert to ONNX format.\n",
    "# aml = H2OAutoML(max_runtime_secs=100, max_models=None,include_algos=['GBM'], nfolds=5)\n",
    "\n",
    "aml.train(x = x, y = y, training_frame = h2o_train, leaderboard_frame = h2o_test)\n",
    "custom_path=aml.leader.save_mojo('../model/AdFlush_custom')\n",
    "custom_path"
   ]
  },
  {
   "cell_type": "markdown",
   "id": "e7dcd1bf",
   "metadata": {},
   "source": [
    "##### 2-1-2. Convert custom AdFlush to ONNX"
   ]
  },
  {
   "cell_type": "code",
   "execution_count": null,
   "id": "a71a5604",
   "metadata": {},
   "outputs": [],
   "source": [
    "## Only available with GBM model\n",
    "## We found that there is a problem in converting h2o to onnx format in windows due to automatically caching to ~AppData\\temp, thus recommend to run this code in Linux\n",
    "onnx_model = onnxmltools.convert.convert_h2o(custom_path, target_opset=9)\n",
    "onnxmltools.utils.save_model(onnx_model, '../model/AdFlush_custom/AdFlush_custom.onnx')"
   ]
  },
  {
   "cell_type": "markdown",
   "id": "5f248403",
   "metadata": {},
   "source": [
    "#### 2-2. Testing AdFlush with H20 AutoML"
   ]
  },
  {
   "cell_type": "code",
   "execution_count": null,
   "id": "dc35758e",
   "metadata": {},
   "outputs": [],
   "source": [
    "path = '../model/AdFlush_mojo.zip'\n",
    "\n",
    "## Run code below to use custom AdFlush\n",
    "# if custom_path!=\"\":\n",
    "#     path=custom_path\n",
    "h2o_model = h2o.import_mojo(path)\n",
    "h2o_test=h2o.H2OFrame(data_df)\n",
    "\n",
    "start_time=time.time()\n",
    "pred = h2o_model.predict(h2o_test)\n",
    "pred = pred.as_data_frame().predict.to_list()\n",
    "print(\"Inference time elapsed: \", time.time()-start_time, \"seconds for \", len(label), \" samples.\")\n",
    "metrics(label, pred, ISMUTATED)\n",
    "if ISMUTATED:\n",
    "    print(\"AUROC: \",roc_auc_score(label, pred.astype('float64')))"
   ]
  },
  {
   "cell_type": "markdown",
   "id": "3129f58b",
   "metadata": {},
   "source": [
    "#### 2-3.Explanable values for AdFlush H2O AutoML\n",
    "We can see some explanations of the processed AdFlush model using H2O AutoML,\n",
    "including SHAP values."
   ]
  },
  {
   "cell_type": "code",
   "execution_count": null,
   "id": "c04f95cd",
   "metadata": {},
   "outputs": [],
   "source": [
    "h2o_model"
   ]
  },
  {
   "cell_type": "code",
   "execution_count": null,
   "id": "9ba8ed5f",
   "metadata": {},
   "outputs": [],
   "source": [
    "h2o_model.shap_summary_plot(h2o_test)"
   ]
  },
  {
   "cell_type": "code",
   "execution_count": null,
   "id": "bd66faed-887f-4157-961c-d3cfcbe44e27",
   "metadata": {},
   "outputs": [],
   "source": [
    "h2o.cluster().shutdown()"
   ]
  },
  {
   "cell_type": "code",
   "execution_count": null,
   "id": "9a10a822",
   "metadata": {},
   "outputs": [],
   "source": []
  }
 ],
 "metadata": {
  "kernelspec": {
   "display_name": "Python 3 (ipykernel)",
   "language": "python",
   "name": "python3"
  },
  "language_info": {
   "codemirror_mode": {
    "name": "ipython",
    "version": 3
   },
   "file_extension": ".py",
   "mimetype": "text/x-python",
   "name": "python",
   "nbconvert_exporter": "python",
   "pygments_lexer": "ipython3",
   "version": "3.10.8"
  }
 },
 "nbformat": 4,
 "nbformat_minor": 5
}
