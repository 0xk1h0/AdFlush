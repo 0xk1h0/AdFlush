{
 "cells": [
  {
   "cell_type": "code",
   "execution_count": 1,
   "id": "5b0c0304-d8d6-4e4c-9041-3fdee30c2113",
   "metadata": {},
   "outputs": [],
   "source": [
    "import psutil\n",
    "from memory_profiler import memory_usage\n",
    "import pandas as pd\n",
    "import numpy as np\n",
    "import time\n",
    "import joblib\n",
    "from category_encoders.target_encoder import TargetEncoder\n",
    "import numpy as np\n",
    "import onnx\n",
    "import onnxruntime as ort\n",
    "import time\n",
    "import wandb\n",
    "import os"
   ]
  },
  {
   "cell_type": "code",
   "execution_count": 2,
   "id": "af41b8f1-c591-4424-ad8f-7dcad956914f",
   "metadata": {},
   "outputs": [],
   "source": [
    "def _check_usage_of_cpu_and_memory():\n",
    "    \n",
    "    pid = os.getpid()\n",
    "    py  = psutil.Process(pid)\n",
    "    \n",
    "    cpu_usage   = os.popen(\"ps aux | grep \" + str(pid) + \" | grep -v grep | awk '{print $3}'\").read()\n",
    "    cpu_usage   = cpu_usage.replace(\"\\n\",\"\")\n",
    "    \n",
    "    memory_usage  = round(py.memory_info()[0] /2.**30, 2)\n",
    "    \n",
    "    print(\"cpu usage\\t\\t:\", cpu_usage, \"%\")\n",
    "    print(\"memory usage\\t\\t:\", memory_usage, \"%\")"
   ]
  },
  {
   "cell_type": "markdown",
   "id": "c4cd919a-af88-4c00-887a-ecfc70308859",
   "metadata": {},
   "source": [
    "## AdGraph"
   ]
  },
  {
   "cell_type": "code",
   "execution_count": 34,
   "id": "7074a4ec-4ba2-4211-ad91-c99ad4f64006",
   "metadata": {},
   "outputs": [
    {
     "name": "stderr",
     "output_type": "stream",
     "text": [
      "/data/kiho/mambaforge/envs/autocomplete/lib/python3.9/site-packages/pandas/core/reshape/merge.py:1210: UserWarning: You are merging on int and float columns where the float values are not equal to their int representation\n",
      "  warnings.warn(\n"
     ]
    },
    {
     "name": "stdout",
     "output_type": "stream",
     "text": [
      "cpu usage\t\t: 0.1 %\n",
      "memory usage\t\t: 7.8 %\n",
      "cpu usage\t\t: 0.1 %\n",
      "memory usage\t\t: 7.96 %\n",
      "Memory used: 165.03515625 MB\n",
      "Inference time: 17.868902444839478 seconds\n"
     ]
    }
   ],
   "source": [
    "data_df = pd.read_csv('./dataset/adgraph/ad_features.csv', index_col=[0])\n",
    "label_df = pd.read_csv('./dataset/adgraph/ad_labelled.csv', index_col=[0])\n",
    "data_df = data_df.reset_index(drop=True)\n",
    "label_df = label_df.reset_index(drop=True)\n",
    "# label_df = label_df['label']\n",
    "# data_df = pd.concat([data_df, label_df], axis = 1)\n",
    "df_labelled = data_df.merge(label_df[['visit_id', 'name', 'label']], on=['visit_id', 'name'])\n",
    "df_labelled = df_labelled[df_labelled['label'] != \"Error\"]\n",
    "te = TargetEncoder()\n",
    "df_labelled['content_policy_type'] = te.fit_transform(df_labelled['content_policy_type'], df_labelled.label)\n",
    "\n",
    "test = df_labelled[df_labelled.columns[2:-1]].astype('float32')\n",
    "\n",
    "_check_usage_of_cpu_and_memory()\n",
    "mem_usage_before = memory_usage(-1, interval=1, timeout=1)\n",
    "\n",
    "cpu_percent_start = psutil.cpu_percent(interval=1)\n",
    "adgraph_model_path = '/data/kiho/webtrack/out/ad_graph_model.joblib'\n",
    "adgraph_model = joblib.load(adgraph_model_path)\n",
    "start_time = time.time()\n",
    "tmp = adgraph_model.predict(test)\n",
    "end_time = time.time()\n",
    "_check_usage_of_cpu_and_memory()\n",
    "# time.sleep(1)\n",
    "# Measure CPU utilization during model's predict method\n",
    "cpu_percent_during = psutil.cpu_percent(interval=1)\n",
    "\n",
    "# Get the CPU utilization after running the model\n",
    "# cpu_after = psutil.cpu_percent(interval=1)\n",
    "mem_usage_after = memory_usage(-1, interval=1, timeout=1)\n",
    "print('Memory used:', max(mem_usage_after)-max(mem_usage_before), 'MB')  # Report additional memory used by the model\n",
    "# Calculate and print the elapsed time\n",
    "# print('CPU utilization:', cpu_percent_start - cpu_percent_during)\n",
    "\n",
    "elapsed_time = end_time - start_time\n",
    "print(f'Inference time: {elapsed_time} seconds')\n",
    "\n",
    "# Memory used: 12.66796875 MB\n",
    "# Inference time: 17.83465051651001 seconds"
   ]
  },
  {
   "cell_type": "markdown",
   "id": "72c3a9d9-2f1d-443a-9f74-713573bde36a",
   "metadata": {},
   "source": [
    "## WebGraph"
   ]
  },
  {
   "cell_type": "code",
   "execution_count": 35,
   "id": "7497c6bd-f6a6-4b6e-9d2c-7dd1471e7a36",
   "metadata": {},
   "outputs": [
    {
     "name": "stderr",
     "output_type": "stream",
     "text": [
      "/data/kiho/mambaforge/envs/autocomplete/lib/python3.9/site-packages/pandas/core/reshape/merge.py:1210: UserWarning: You are merging on int and float columns where the float values are not equal to their int representation\n",
      "  warnings.warn(\n"
     ]
    },
    {
     "name": "stdout",
     "output_type": "stream",
     "text": [
      "cpu usage\t\t: 0.1 %\n",
      "memory usage\t\t: 8.47 %\n",
      "cpu usage\t\t: 0.1 %\n",
      "memory usage\t\t: 8.6 %\n",
      "CPU utilization: -0.19999999999999996\n",
      "Memory used: 132.38671875 MB\n",
      "Inference time: 17.9814236164093 seconds\n"
     ]
    }
   ],
   "source": [
    "data_df = pd.read_csv('./dataset/webgraph/web_features.csv', index_col=[0])\n",
    "label_df = pd.read_csv('./dataset/webgraph/web_labelled.csv', index_col=[0])\n",
    "data_df = data_df.reset_index(drop=True)\n",
    "label_df = label_df.reset_index(drop=True)\n",
    "# label_df = label_df['label']\n",
    "# data_df = pd.concat([data_df, label_df], axis = 1)\n",
    "\n",
    "df_labelled = data_df.merge(label_df[['visit_id', 'name', 'label']], on=['visit_id', 'name'])\n",
    "df_labelled = df_labelled[df_labelled['label'] != \"Error\"]\n",
    "\n",
    "test = df_labelled[df_labelled.columns[2:-1]].astype('float32')\n",
    "\n",
    "_check_usage_of_cpu_and_memory()\n",
    "cpu_before = psutil.cpu_percent(interval=1)\n",
    "mem_usage_before = memory_usage(-1, interval=1, timeout=1)\n",
    "\n",
    "start_time = time.time()\n",
    "\n",
    "webgraph_model_path = '/data/kiho/webtrack/out/web_graph_model.joblib'\n",
    "webgraph_model = joblib.load(webgraph_model_path)\n",
    "\n",
    "start_time = time.time()\n",
    "\n",
    "tmp = webgraph_model.predict(test)\n",
    "\n",
    "end_time = time.time()\n",
    "\n",
    "# time.sleep(1)\n",
    "# Measure CPU utilization during model's predict method\n",
    "# cpu_percent_during = psutil.cpu_percent(interval=1)\n",
    "\n",
    "\n",
    "_check_usage_of_cpu_and_memory()\n",
    "# Get the CPU utilization after running the model\n",
    "cpu_after = psutil.cpu_percent(interval=1)\n",
    "print('CPU utilization:', cpu_after - cpu_before)\n",
    "mem_usage_after = memory_usage(-1, interval=1, timeout=1)\n",
    "print('Memory used:', max(mem_usage_after)-max(mem_usage_before), 'MB')  # Report additional memory used by the model\n",
    "# Calculate and print the elapsed time\n",
    "\n",
    "elapsed_time = end_time - start_time\n",
    "print(f'Inference time: {elapsed_time} seconds')\n",
    "\n",
    "# cpu usage\t\t: 0.1 %\n",
    "# memory usage\t\t: 6.81 %\n",
    "# cpu usage\t\t: 0.1 %\n",
    "# memory usage\t\t: 7.07 %\n",
    "# CPU utilization: 0.1999999999999993\n",
    "# Memory used: 260.94921875 MB\n",
    "# Inference time: 19.177070379257202 seconds"
   ]
  },
  {
   "cell_type": "markdown",
   "id": "3efce5fb-9d6c-4791-8a8e-949e9ff633eb",
   "metadata": {},
   "source": [
    "## De-Adlock"
   ]
  },
  {
   "cell_type": "code",
   "execution_count": 33,
   "id": "2e9c42a8-4737-46fa-bf6c-60c2da87512d",
   "metadata": {},
   "outputs": [
    {
     "name": "stdout",
     "output_type": "stream",
     "text": [
      "cpu usage\t\t: 0.1 %\n",
      "memory usage\t\t: 7.71 %\n",
      "cpu usage\t\t: 0.1 %\n",
      "memory usage\t\t: 7.71 %\n",
      "Inference time: 1.9481086730957031 seconds\n",
      "Memory used: -0.10546875 MB\n"
     ]
    }
   ],
   "source": [
    "data_df = pd.read_csv('./dataset/trainset.csv', index_col=[0])\n",
    "test = data_df[data_df.columns[2:-1]]\n",
    "# Load the ONNX model\n",
    "\n",
    "cpu_before = psutil.cpu_percent(interval=1)\n",
    "_check_usage_of_cpu_and_memory()\n",
    "mem_usage_before = memory_usage(-1, interval=1, timeout=1)\n",
    "\n",
    "\n",
    "\n",
    "model = onnx.load('./model/De-Adlock.onnx')\n",
    "# Check that the IR is well formed\n",
    "onnx.checker.check_model(model)\n",
    "\n",
    "start_time = time.time()\n",
    "\n",
    "# Create an ONNX runtime session\n",
    "ort_session = ort.InferenceSession('./model/De-Adlock.onnx')\n",
    "input_data = test.values.astype('float32')\n",
    "input_name = ort_session.get_inputs()[0].name\n",
    "\n",
    "# Run the inference session to get the prediction results\n",
    "predictions = ort_session.run(None, {input_name: input_data})\n",
    "\n",
    "end_time = time.time()\n",
    "\n",
    "# time.sleep(1)\n",
    "# Measure CPU utilization during model's predict method\n",
    "cpu_percent_during = psutil.cpu_percent(interval=1)\n",
    "_check_usage_of_cpu_and_memory()\n",
    "mem_usage_after = memory_usage(-1, interval=1, timeout=1)\n",
    "\n",
    "# Get the CPU utilization after running the model\n",
    "# cpu_after = psutil.cpu_percent(interval=1)\n",
    "# print('CPU utilization:', cpu_before - cpu_percent_during)\n",
    "\n",
    "elapsed_time = end_time - start_time\n",
    "print(f'Inference time: {elapsed_time} seconds')\n",
    "print('Memory used:', max(mem_usage_after)-max(mem_usage_before), 'MB')  # Report additional memory used by the model\n",
    "\n",
    "# cpu usage\t\t: 34.0 %\n",
    "# memory usage\t\t: 5.74 %\n",
    "# cpu usage\t\t: 35.8 %\n",
    "# memory usage\t\t: 5.74 %\n",
    "# Inference time: 1.3394038677215576 seconds\n",
    "# Memory used: 0.03515625 MB"
   ]
  },
  {
   "cell_type": "code",
   "execution_count": 32,
   "id": "f654ee88-1113-43de-93fe-4ecb21624e19",
   "metadata": {},
   "outputs": [
    {
     "name": "stdout",
     "output_type": "stream",
     "text": [
      "cpu usage\t\t: 0.1 %\n",
      "memory usage\t\t: 7.71 %\n",
      "cpu usage\t\t: 0.1 %\n",
      "memory usage\t\t: 7.71 %\n",
      "Inference time: 2.3571176528930664 seconds\n",
      "Memory used: 0.17578125 MB\n"
     ]
    }
   ],
   "source": [
    "data_df = pd.read_csv('./dataset/trainset.csv', index_col=[0])\n",
    "test = data_df[data_df.columns[2:-1]]\n",
    "# Load the ONNX model\n",
    "\n",
    "cpu_before = psutil.cpu_percent(interval=1)\n",
    "_check_usage_of_cpu_and_memory()\n",
    "mem_usage_before = memory_usage(-1, interval=1, timeout=1)\n",
    "\n",
    "\n",
    "\n",
    "model = onnx.load('./model/De-Adlock.onnx')\n",
    "# Check that the IR is well formed\n",
    "onnx.checker.check_model(model)\n",
    "\n",
    "start_time = time.time()\n",
    "\n",
    "# Create an ONNX runtime session\n",
    "ort_session = ort.InferenceSession('./model/De-Adlock.onnx')\n",
    "input_data = test.values.astype('float32')\n",
    "input_name = ort_session.get_inputs()[0].name\n",
    "\n",
    "# Run the inference session to get the prediction results\n",
    "predictions = ort_session.run(None, {input_name: input_data})\n",
    "\n",
    "end_time = time.time()\n",
    "\n",
    "# time.sleep(1)\n",
    "# Measure CPU utilization during model's predict method\n",
    "cpu_percent_during = psutil.cpu_percent(interval=1)\n",
    "_check_usage_of_cpu_and_memory()\n",
    "mem_usage_after = memory_usage(-1, interval=1, timeout=1)\n",
    "\n",
    "# Get the CPU utilization after running the model\n",
    "# cpu_after = psutil.cpu_percent(interval=1)\n",
    "# print('CPU utilization:', cpu_before - cpu_percent_during)\n",
    "\n",
    "elapsed_time = end_time - start_time\n",
    "print(f'Inference time: {elapsed_time} seconds')\n",
    "print('Memory used:', max(mem_usage_after)-max(mem_usage_before), 'MB')  # Report additional memory used by the model\n",
    "\n",
    "# cpu usage\t\t: 0.1 %\n",
    "# memory usage\t\t: 7.71 %\n",
    "# cpu usage\t\t: 0.1 %\n",
    "# memory usage\t\t: 7.71 %\n",
    "# Inference time: 2.3571176528930664 seconds\n",
    "# Memory used: 0.17578125 MB"
   ]
  },
  {
   "cell_type": "code",
   "execution_count": null,
   "id": "cac28391-ef0e-477c-9b38-72fbc2c59210",
   "metadata": {},
   "outputs": [],
   "source": []
  }
 ],
 "metadata": {
  "kernelspec": {
   "display_name": "Python 3 (ipykernel)",
   "language": "python",
   "name": "python3"
  },
  "language_info": {
   "codemirror_mode": {
    "name": "ipython",
    "version": 3
   },
   "file_extension": ".py",
   "mimetype": "text/x-python",
   "name": "python",
   "nbconvert_exporter": "python",
   "pygments_lexer": "ipython3",
   "version": "3.9.13"
  }
 },
 "nbformat": 4,
 "nbformat_minor": 5
}
