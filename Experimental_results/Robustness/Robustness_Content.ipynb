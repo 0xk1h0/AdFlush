{
 "cells": [
  {
   "cell_type": "code",
   "execution_count": 489,
   "id": "e0171ea6-afd6-4a40-84c1-6ee83e8f4f4e",
   "metadata": {},
   "outputs": [
    {
     "name": "stdout",
     "output_type": "stream",
     "text": [
      "True\n",
      "Checking whether there is an H2O instance running at http://localhost:54321. connected.\n",
      "Warning: Your H2O cluster version is (3 months and 18 days) old.  There may be a newer version available.\n",
      "Please download and install the latest version from: https://h2o-release.s3.amazonaws.com/h2o/latest_stable.html\n"
     ]
    },
    {
     "data": {
      "text/html": [
       "\n",
       "<style>\n",
       "\n",
       "#h2o-table-4.h2o-container {\n",
       "  overflow-x: auto;\n",
       "}\n",
       "#h2o-table-4 .h2o-table {\n",
       "  /* width: 100%; */\n",
       "  margin-top: 1em;\n",
       "  margin-bottom: 1em;\n",
       "}\n",
       "#h2o-table-4 .h2o-table caption {\n",
       "  white-space: nowrap;\n",
       "  caption-side: top;\n",
       "  text-align: left;\n",
       "  /* margin-left: 1em; */\n",
       "  margin: 0;\n",
       "  font-size: larger;\n",
       "}\n",
       "#h2o-table-4 .h2o-table thead {\n",
       "  white-space: nowrap; \n",
       "  position: sticky;\n",
       "  top: 0;\n",
       "  box-shadow: 0 -1px inset;\n",
       "}\n",
       "#h2o-table-4 .h2o-table tbody {\n",
       "  overflow: auto;\n",
       "}\n",
       "#h2o-table-4 .h2o-table th,\n",
       "#h2o-table-4 .h2o-table td {\n",
       "  text-align: right;\n",
       "  /* border: 1px solid; */\n",
       "}\n",
       "#h2o-table-4 .h2o-table tr:nth-child(even) {\n",
       "  /* background: #F5F5F5 */\n",
       "}\n",
       "\n",
       "</style>      \n",
       "<div id=\"h2o-table-4\" class=\"h2o-container\">\n",
       "  <table class=\"h2o-table\">\n",
       "    <caption></caption>\n",
       "    <thead></thead>\n",
       "    <tbody><tr><td>H2O_cluster_uptime:</td>\n",
       "<td>1 day 14 hours 11 mins</td></tr>\n",
       "<tr><td>H2O_cluster_timezone:</td>\n",
       "<td>Asia/Seoul</td></tr>\n",
       "<tr><td>H2O_data_parsing_timezone:</td>\n",
       "<td>UTC</td></tr>\n",
       "<tr><td>H2O_cluster_version:</td>\n",
       "<td>3.40.0.2</td></tr>\n",
       "<tr><td>H2O_cluster_version_age:</td>\n",
       "<td>3 months and 18 days</td></tr>\n",
       "<tr><td>H2O_cluster_name:</td>\n",
       "<td>H2O_from_python_kiho_evczt9</td></tr>\n",
       "<tr><td>H2O_cluster_total_nodes:</td>\n",
       "<td>1</td></tr>\n",
       "<tr><td>H2O_cluster_free_memory:</td>\n",
       "<td>27.84 Gb</td></tr>\n",
       "<tr><td>H2O_cluster_total_cores:</td>\n",
       "<td>40</td></tr>\n",
       "<tr><td>H2O_cluster_allowed_cores:</td>\n",
       "<td>40</td></tr>\n",
       "<tr><td>H2O_cluster_status:</td>\n",
       "<td>locked, healthy</td></tr>\n",
       "<tr><td>H2O_connection_url:</td>\n",
       "<td>http://localhost:54321</td></tr>\n",
       "<tr><td>H2O_connection_proxy:</td>\n",
       "<td>{\"http\": null, \"https\": null}</td></tr>\n",
       "<tr><td>H2O_internal_security:</td>\n",
       "<td>False</td></tr>\n",
       "<tr><td>Python_version:</td>\n",
       "<td>3.9.15 final</td></tr></tbody>\n",
       "  </table>\n",
       "</div>\n"
      ],
      "text/plain": [
       "--------------------------  -----------------------------\n",
       "H2O_cluster_uptime:         1 day 14 hours 11 mins\n",
       "H2O_cluster_timezone:       Asia/Seoul\n",
       "H2O_data_parsing_timezone:  UTC\n",
       "H2O_cluster_version:        3.40.0.2\n",
       "H2O_cluster_version_age:    3 months and 18 days\n",
       "H2O_cluster_name:           H2O_from_python_kiho_evczt9\n",
       "H2O_cluster_total_nodes:    1\n",
       "H2O_cluster_free_memory:    27.84 Gb\n",
       "H2O_cluster_total_cores:    40\n",
       "H2O_cluster_allowed_cores:  40\n",
       "H2O_cluster_status:         locked, healthy\n",
       "H2O_connection_url:         http://localhost:54321\n",
       "H2O_connection_proxy:       {\"http\": null, \"https\": null}\n",
       "H2O_internal_security:      False\n",
       "Python_version:             3.9.15 final\n",
       "--------------------------  -----------------------------"
      ]
     },
     "metadata": {},
     "output_type": "display_data"
    }
   ],
   "source": [
    "import pandas as pd\n",
    "import numpy as np\n",
    "import joblib\n",
    "import onnx\n",
    "import onnxruntime as ort\n",
    "import torch\n",
    "print(torch.cuda.is_available())\n",
    "from category_encoders.target_encoder import TargetEncoder\n",
    "from sklearn.model_selection import train_test_split\n",
    "from tabgan.sampler import OriginalGenerator, GANGenerator\n",
    "from sklearn.metrics import (\n",
    "    confusion_matrix,\n",
    "    accuracy_score,\n",
    "    precision_score,\n",
    "    recall_score,\n",
    "    f1_score,\n",
    "    roc_auc_score,\n",
    "    confusion_matrix\n",
    ")\n",
    "from sewar.full_ref import mse, rmse, psnr, uqi, ssim, ergas, scc, rase, sam, msssim, vifp\n",
    "from art.estimators.classification import PyTorchClassifier\n",
    "from art.metrics import clever\n",
    "import json\n",
    "from tqdm import tqdm\n",
    "import h2o\n",
    "h2o.init()"
   ]
  },
  {
   "cell_type": "code",
   "execution_count": 458,
   "id": "336abae5-ee08-4d16-974f-7615a6d82fe4",
   "metadata": {},
   "outputs": [],
   "source": [
    "def metrics(true, pred):\n",
    "    print(accuracy_score(true, pred))\n",
    "    print(precision_score(true, pred))\n",
    "    print(recall_score(true, pred))\n",
    "    print(f1_score(true, pred))\n",
    "     # Number of attacks\n",
    "    total_attacks = len(true)\n",
    "    \n",
    "    # Number of successful attacks (misclassifications)\n",
    "    successful_attacks = sum(true != pred)\n",
    "    tn, fp, fn, tp = confusion_matrix(true, pred).ravel()\n",
    "\n",
    "    # Calculate FNR\n",
    "    fnr = fn / (tp + fn)\n",
    "    print('False Negative Rate:', fnr)\n",
    "\n",
    "    # Calculate FPR\n",
    "    fpr = fp / (fp + tn)\n",
    "    print('False Positive Rate:', fpr)\n",
    "    # ASR\n",
    "    asr = successful_attacks / total_attacks\n",
    "    print(asr)"
   ]
  },
  {
   "cell_type": "markdown",
   "id": "5a6eaa0d-cf53-497d-992a-8e1646c07390",
   "metadata": {},
   "source": [
    "### Content mutated"
   ]
  },
  {
   "cell_type": "code",
   "execution_count": 73,
   "id": "a292b7bc-9acd-4457-972e-d1dd061fea3f",
   "metadata": {},
   "outputs": [],
   "source": [
    "mut_data_df = pd.read_csv('./dataset/WebGraph/code/out/features.csv', index_col=[0])\n",
    "mut_label_df = pd.read_csv('./dataset/WebGraph/code/out/labelled.csv', index_col=[0])\n",
    "mut_data_df = mut_data_df.reset_index(drop=True)\n",
    "mut_label_df = mut_label_df.reset_index(drop=True)\n",
    "\n",
    "mut_df_labelled = mut_data_df.merge(mut_label_df[['visit_id', 'name', 'label']], on=['visit_id', 'name'])\n",
    "mut_df_labelled = mut_df_labelled[mut_df_labelled['label'] != \"Error\"]\n",
    "# label_df = label_df['label']\n",
    "# data_df = pd.concat([data_df, label_df], axis = 1)\n",
    "# te = TargetEncoder()\n",
    "# df_labelled['content_policy_type'] = te.fit_transform(df_labelled['content_policy_type'], df_labelled.label)"
   ]
  },
  {
   "cell_type": "markdown",
   "id": "897b07bf-6874-4604-8cc8-ee2edfc2e33d",
   "metadata": {},
   "source": [
    "## AdGraph"
   ]
  },
  {
   "cell_type": "code",
   "execution_count": 424,
   "id": "f375b9ae-b7fb-40d6-8bc4-65ff65a1eb53",
   "metadata": {},
   "outputs": [
    {
     "data": {
      "text/html": [
       "<style>#sk-container-id-1 {color: black;background-color: white;}#sk-container-id-1 pre{padding: 0;}#sk-container-id-1 div.sk-toggleable {background-color: white;}#sk-container-id-1 label.sk-toggleable__label {cursor: pointer;display: block;width: 100%;margin-bottom: 0;padding: 0.3em;box-sizing: border-box;text-align: center;}#sk-container-id-1 label.sk-toggleable__label-arrow:before {content: \"▸\";float: left;margin-right: 0.25em;color: #696969;}#sk-container-id-1 label.sk-toggleable__label-arrow:hover:before {color: black;}#sk-container-id-1 div.sk-estimator:hover label.sk-toggleable__label-arrow:before {color: black;}#sk-container-id-1 div.sk-toggleable__content {max-height: 0;max-width: 0;overflow: hidden;text-align: left;background-color: #f0f8ff;}#sk-container-id-1 div.sk-toggleable__content pre {margin: 0.2em;color: black;border-radius: 0.25em;background-color: #f0f8ff;}#sk-container-id-1 input.sk-toggleable__control:checked~div.sk-toggleable__content {max-height: 200px;max-width: 100%;overflow: auto;}#sk-container-id-1 input.sk-toggleable__control:checked~label.sk-toggleable__label-arrow:before {content: \"▾\";}#sk-container-id-1 div.sk-estimator input.sk-toggleable__control:checked~label.sk-toggleable__label {background-color: #d4ebff;}#sk-container-id-1 div.sk-label input.sk-toggleable__control:checked~label.sk-toggleable__label {background-color: #d4ebff;}#sk-container-id-1 input.sk-hidden--visually {border: 0;clip: rect(1px 1px 1px 1px);clip: rect(1px, 1px, 1px, 1px);height: 1px;margin: -1px;overflow: hidden;padding: 0;position: absolute;width: 1px;}#sk-container-id-1 div.sk-estimator {font-family: monospace;background-color: #f0f8ff;border: 1px dotted black;border-radius: 0.25em;box-sizing: border-box;margin-bottom: 0.5em;}#sk-container-id-1 div.sk-estimator:hover {background-color: #d4ebff;}#sk-container-id-1 div.sk-parallel-item::after {content: \"\";width: 100%;border-bottom: 1px solid gray;flex-grow: 1;}#sk-container-id-1 div.sk-label:hover label.sk-toggleable__label {background-color: #d4ebff;}#sk-container-id-1 div.sk-serial::before {content: \"\";position: absolute;border-left: 1px solid gray;box-sizing: border-box;top: 0;bottom: 0;left: 50%;z-index: 0;}#sk-container-id-1 div.sk-serial {display: flex;flex-direction: column;align-items: center;background-color: white;padding-right: 0.2em;padding-left: 0.2em;position: relative;}#sk-container-id-1 div.sk-item {position: relative;z-index: 1;}#sk-container-id-1 div.sk-parallel {display: flex;align-items: stretch;justify-content: center;background-color: white;position: relative;}#sk-container-id-1 div.sk-item::before, #sk-container-id-1 div.sk-parallel-item::before {content: \"\";position: absolute;border-left: 1px solid gray;box-sizing: border-box;top: 0;bottom: 0;left: 50%;z-index: -1;}#sk-container-id-1 div.sk-parallel-item {display: flex;flex-direction: column;z-index: 1;position: relative;background-color: white;}#sk-container-id-1 div.sk-parallel-item:first-child::after {align-self: flex-end;width: 50%;}#sk-container-id-1 div.sk-parallel-item:last-child::after {align-self: flex-start;width: 50%;}#sk-container-id-1 div.sk-parallel-item:only-child::after {width: 0;}#sk-container-id-1 div.sk-dashed-wrapped {border: 1px dashed gray;margin: 0 0.4em 0.5em 0.4em;box-sizing: border-box;padding-bottom: 0.4em;background-color: white;}#sk-container-id-1 div.sk-label label {font-family: monospace;font-weight: bold;display: inline-block;line-height: 1.2em;}#sk-container-id-1 div.sk-label-container {text-align: center;}#sk-container-id-1 div.sk-container {/* jupyter's `normalize.less` sets `[hidden] { display: none; }` but bootstrap.min.css set `[hidden] { display: none !important; }` so we also need the `!important` here to be able to override the default hidden behavior on the sphinx rendered scikit-learn.org. See: https://github.com/scikit-learn/scikit-learn/issues/21755 */display: inline-block !important;position: relative;}#sk-container-id-1 div.sk-text-repr-fallback {display: none;}</style><div id=\"sk-container-id-1\" class=\"sk-top-container\"><div class=\"sk-text-repr-fallback\"><pre>TargetEncoder(cols=[&#x27;content_policy_type&#x27;])</pre><b>In a Jupyter environment, please rerun this cell to show the HTML representation or trust the notebook. <br />On GitHub, the HTML representation is unable to render, please try loading this page with nbviewer.org.</b></div><div class=\"sk-container\" hidden><div class=\"sk-item\"><div class=\"sk-estimator sk-toggleable\"><input class=\"sk-toggleable__control sk-hidden--visually\" id=\"sk-estimator-id-1\" type=\"checkbox\" checked><label for=\"sk-estimator-id-1\" class=\"sk-toggleable__label sk-toggleable__label-arrow\">TargetEncoder</label><div class=\"sk-toggleable__content\"><pre>TargetEncoder(cols=[&#x27;content_policy_type&#x27;])</pre></div></div></div></div></div>"
      ],
      "text/plain": [
       "TargetEncoder(cols=['content_policy_type'])"
      ]
     },
     "execution_count": 424,
     "metadata": {},
     "output_type": "execute_result"
    }
   ],
   "source": [
    "data_df = pd.read_csv('./dataset/adgraph/ad_features.csv', index_col=[0])\n",
    "label_df = pd.read_csv('./dataset/adgraph/ad_labelled.csv', index_col=[0])\n",
    "data_df = data_df.reset_index(drop=True)\n",
    "label_df = label_df.reset_index(drop=True)\n",
    "# label_df = label_df['label']\n",
    "# data_df = pd.concat([data_df, label_df], axis = 1)\n",
    "df_labelled = data_df.merge(label_df[['visit_id', 'name', 'label']], on=['visit_id', 'name'])\n",
    "df_labelled = df_labelled[df_labelled['label'] != \"Error\"]\n",
    "te = TargetEncoder()\n",
    "te.fit(df_labelled['content_policy_type'], df_labelled.label)\n",
    "# df_labelled['content_policy_type'] = te.fit_transform(df_labelled['content_policy_type'], df_labelled.label)"
   ]
  },
  {
   "cell_type": "code",
   "execution_count": 214,
   "id": "2acec4d8-1be7-4fde-a0a6-1b0d24824ce4",
   "metadata": {},
   "outputs": [],
   "source": [
    "_, x_test = train_test_split(df_labelled, test_size=0.2, random_state=42)"
   ]
  },
  {
   "cell_type": "code",
   "execution_count": 215,
   "id": "bff0b3ee-accc-48cb-9ad8-4bcbb6e15161",
   "metadata": {},
   "outputs": [],
   "source": [
    "mut_df_labelled.content_policy_type = te.transform(mut_df_labelled.content_policy_type)"
   ]
  },
  {
   "cell_type": "code",
   "execution_count": 216,
   "id": "e1ff9963-bf51-4056-9db0-e3fe8a22eba9",
   "metadata": {},
   "outputs": [],
   "source": [
    "only_at = mut_df_labelled[mut_df_labelled.label == 1][df_labelled.columns]\n",
    "# only_at = mut_df_labelled[df_labelled.columns]"
   ]
  },
  {
   "cell_type": "code",
   "execution_count": 224,
   "id": "205cce90-0dc4-4f48-aaea-288435ef7c90",
   "metadata": {},
   "outputs": [],
   "source": [
    "mut_test_x = mut_df_labelled[df_labelled.columns]"
   ]
  },
  {
   "cell_type": "code",
   "execution_count": 231,
   "id": "12df26c3-c489-4800-8fb0-920c53b65e03",
   "metadata": {},
   "outputs": [],
   "source": [
    "test_df = pd.concat([only_at, x_test[x_test.label==0]], axis=0)"
   ]
  },
  {
   "cell_type": "code",
   "execution_count": 238,
   "id": "e96be75b-0d57-4065-9d96-41de07f7e61e",
   "metadata": {},
   "outputs": [],
   "source": [
    "adgraph_model_path = \"./model/adgraph/results/model_0.joblib\"\n",
    "adgraph_model = joblib.load(adgraph_model_path)\n",
    "tmp = adgraph_model.predict(only_at[only_at.columns[2:]])"
   ]
  },
  {
   "cell_type": "code",
   "execution_count": 239,
   "id": "0e8976ce-ac9f-4083-b98b-b922898b12e7",
   "metadata": {},
   "outputs": [
    {
     "name": "stdout",
     "output_type": "stream",
     "text": [
      "0.007643976682468755\n",
      "1.0\n",
      "0.007643976682468755\n",
      "0.01517197911039078\n",
      "0.9923560233175313\n"
     ]
    }
   ],
   "source": [
    "metrics(only_at.label, tmp) # accu prec recl f1-sc asr"
   ]
  },
  {
   "cell_type": "markdown",
   "id": "d716b156-253f-431b-9e19-1968b1192769",
   "metadata": {},
   "source": [
    "## WebGraph"
   ]
  },
  {
   "cell_type": "code",
   "execution_count": 305,
   "id": "b57bca5f-f674-4431-acca-abfdd1957433",
   "metadata": {},
   "outputs": [],
   "source": [
    "data_df = pd.read_csv('./dataset/webgraph/web_features.csv', index_col=[0])\n",
    "label_df = pd.read_csv('./dataset/webgraph/web_labelled.csv', index_col=[0])\n",
    "data_df = data_df.reset_index(drop=True)\n",
    "label_df = label_df.reset_index(drop=True)\n",
    "# label_df = label_df['label']\n",
    "# data_df = pd.concat([data_df, label_df], axis = 1)\n",
    "df_labelled = data_df.merge(label_df[['visit_id', 'name', 'label']], on=['visit_id', 'name'])\n",
    "df_labelled = df_labelled[df_labelled['label'] != \"Error\"]\n",
    "# te = TargetEncoder()\n",
    "# df_labelled['content_policy_type'] = te.fit_transform(df_labelled['content_policy_type'], df_labelled.label)"
   ]
  },
  {
   "cell_type": "code",
   "execution_count": 243,
   "id": "dab3e493-18df-41b2-aea4-0fab07870622",
   "metadata": {},
   "outputs": [],
   "source": [
    "_, x_test = train_test_split(df_labelled, test_size=0.2, random_state=42)"
   ]
  },
  {
   "cell_type": "code",
   "execution_count": 251,
   "id": "b8b7075f-ff7c-4199-bc2f-5f95ab1ca1a3",
   "metadata": {},
   "outputs": [],
   "source": [
    "only_at = mut_df_labelled[mut_df_labelled.label == 1][df_labelled.columns]\n",
    "# only_at = mut_df_labelled[df_labelled.columns]"
   ]
  },
  {
   "cell_type": "code",
   "execution_count": 245,
   "id": "ab5508b3-8792-432d-bda3-0c6eef9cad39",
   "metadata": {},
   "outputs": [],
   "source": [
    "test_df = pd.concat([only_at, x_test[x_test.label==1]], axis=0)"
   ]
  },
  {
   "cell_type": "code",
   "execution_count": 246,
   "id": "cb4ac7fd-e0a7-4d4c-af50-c92f13d20196",
   "metadata": {},
   "outputs": [],
   "source": [
    "mut_test_x = mut_df_labelled[df_labelled.columns]"
   ]
  },
  {
   "cell_type": "code",
   "execution_count": 252,
   "id": "f201db9a-dac4-47f2-9916-06783e0dcc67",
   "metadata": {},
   "outputs": [],
   "source": [
    "webgraph_model_path = \"./dataset/webgraph/results/model_0.joblib\"\n",
    "webgraph_model = joblib.load(webgraph_model_path)\n",
    "tmp = webgraph_model.predict(mut_test_x[mut_test_x.columns[2:]])"
   ]
  },
  {
   "cell_type": "code",
   "execution_count": 253,
   "id": "48b58002-24b5-4ea3-93f8-0bfc0ed27e1d",
   "metadata": {},
   "outputs": [
    {
     "name": "stdout",
     "output_type": "stream",
     "text": [
      "0.642438422378773\n",
      "0.5485512599523927\n",
      "0.3031732710322771\n",
      "0.39051612054986634\n",
      "0.3575615776212269\n"
     ]
    }
   ],
   "source": [
    "metrics(mut_test_x.label, tmp) # accu prec recl f1-sc ASR"
   ]
  },
  {
   "cell_type": "markdown",
   "id": "be713cc5-88a1-4bfa-ae40-d464522b73bb",
   "metadata": {},
   "source": [
    "## De-Adlock"
   ]
  },
  {
   "cell_type": "code",
   "execution_count": 490,
   "id": "deb1ed73-caeb-4c65-9659-bb238d70cba8",
   "metadata": {},
   "outputs": [],
   "source": [
    "df_labelled = pd.read_csv('./dataset/testset.csv', index_col=[0])"
   ]
  },
  {
   "cell_type": "code",
   "execution_count": 375,
   "id": "f3bdb7bf-5f47-48bf-a034-69ec766d12f3",
   "metadata": {},
   "outputs": [],
   "source": [
    "mut_data_df = pd.read_csv('./dataset/WebGraph/code/out/features.csv', index_col=[0])\n",
    "mut_label_df = pd.read_csv('./dataset/WebGraph/code/out/labelled.csv', index_col=[0])\n",
    "mut_data_df = mut_data_df.reset_index(drop=True)\n",
    "mut_label_df = mut_label_df.reset_index(drop=True)\n",
    "\n",
    "mut_df_labelled = mut_data_df.merge(mut_label_df[['visit_id', 'name', 'label']], on=['visit_id', 'name'])\n",
    "mut_df_labelled = mut_df_labelled[mut_df_labelled['label'] != \"Error\"]"
   ]
  },
  {
   "cell_type": "code",
   "execution_count": 260,
   "id": "b135786f-8d2e-4a61-bb1f-aed60ed78e89",
   "metadata": {},
   "outputs": [],
   "source": [
    "mut_fqdn = pd.read_csv('./dataset/wordvec/mut_fqdn.csv', index_col=0)\n",
    "mut_req = pd.read_csv('./dataset/wordvec/mut_req.csv', index_col=0)\n",
    "mut_df_labelled = pd.concat([mut_df_labelled, mut_fqdn, mut_req], axis=1)"
   ]
  },
  {
   "cell_type": "code",
   "execution_count": 261,
   "id": "3cc237f3-881a-4fe6-bf06-6091c593a6be",
   "metadata": {},
   "outputs": [],
   "source": [
    "_, x_test = train_test_split(df_labelled, test_size=0.2, random_state=42)\n",
    "only_at = mut_df_labelled[mut_df_labelled.label == 1][df_labelled.columns]\n",
    "# only_at = mut_df_labelled[df_labelled.columns]\n",
    "test_df = pd.concat([only_at, x_test[x_test.label==0]], axis=0)"
   ]
  },
  {
   "cell_type": "code",
   "execution_count": 264,
   "id": "8cb2d01a-78d8-4ef2-8ff8-ba3959d69600",
   "metadata": {},
   "outputs": [
    {
     "name": "stdout",
     "output_type": "stream",
     "text": [
      "generic Model Build progress: |██████████████████████████████████████████████████| (done) 100%\n",
      "Parse progress: |████████████████████████████████████████████████████████████████| (done) 100%\n",
      "generic prediction progress: |███████████████████████████████████████████████████| (done) 100%\n",
      "0.9828251144135343\n",
      "0.9869026958232096\n",
      "0.9673826751650146\n",
      "0.9770451994226936\n",
      "0.01717488558646578\n"
     ]
    }
   ],
   "source": [
    "path = './model/De-Adlock_mojo.zip'\n",
    "h2o_model = h2o.import_mojo(path)\n",
    "mut_test_x = h2o.H2OFrame(mut_df_labelled[mut_df_labelled[df_labelled.columns].columns[2:-1]])\n",
    "# h2o_new_train = h2o.H2OFrame(mut_test_x[mut_test_x.columns[2:-1]])\n",
    "pred = h2o_model.predict(mut_test_x)\n",
    "pred = pred.as_data_frame().predict.to_list()\n",
    "metrics(mut_df_labelled.label.astype(int), pred) # accu prec recl f1-sc\n",
    "# y_pred_proba = model.predict_proba(pred_onx)[:,1]"
   ]
  },
  {
   "cell_type": "code",
   "execution_count": 265,
   "id": "1328c4cc-ca6b-4c66-bf52-fe9eb88df1d4",
   "metadata": {},
   "outputs": [
    {
     "data": {
      "text/plain": [
       "0.9797929974764394"
      ]
     },
     "execution_count": 265,
     "metadata": {},
     "output_type": "execute_result"
    }
   ],
   "source": [
    "roc_auc_score(mut_df_labelled.label.astype(int), pred)"
   ]
  },
  {
   "cell_type": "code",
   "execution_count": null,
   "id": "7820d460-2148-46cc-a87e-ac9638251ace",
   "metadata": {},
   "outputs": [],
   "source": [
    "pd.concat([df_labelled.name, pd.Series(pred)], axis =1, keys= ['name', 'pred']).to_csv('/data/kiho/webtrack/out/0628_all_df_pred.csv')"
   ]
  },
  {
   "cell_type": "code",
   "execution_count": 165,
   "id": "79b97dfb-fd46-42d2-8eaf-9e74cbe0a70f",
   "metadata": {},
   "outputs": [],
   "source": [
    "with open('/data/kiho/webtrack/feature_extracted/wordvec/fqdnwordvec2.json', 'r') as f:\n",
    "    fqdndict=json.load(f)\n",
    "with open('/data/kiho/webtrack/feature_extracted/wordvec/reqwordvec2.json','r') as f:\n",
    "    reqdict=json.load(f)"
   ]
  },
  {
   "cell_type": "code",
   "execution_count": 201,
   "id": "51479e55-022d-4498-9813-283a8c94596e",
   "metadata": {},
   "outputs": [
    {
     "name": "stderr",
     "output_type": "stream",
     "text": [
      "100%|███████████████████████████████████████████████████████████████████████████████████████████████████████████████████████████████████| 116682/116682 [04:05<00:00, 474.62it/s]\n"
     ]
    }
   ],
   "source": [
    "mut_url = pd.DataFrame(mut_df_labelled.name)\n",
    "req_df = []\n",
    "fqdn_df = []\n",
    "for i in tqdm(range(len(mut_url))):\n",
    "    requrl=mut_url.name[i]\n",
    "    domain= requrl.split('/')[2]\n",
    "\n",
    "    reqvector=np.zeros(200)\n",
    "    fqdnvector=np.zeros(30)\n",
    "\n",
    "    for c in requrl:\n",
    "        reqvector+=reqdict[c]\n",
    "    reqvector/=len(requrl)\n",
    "    req_df.append(reqvector)\n",
    "    for c in domain:\n",
    "        fqdnvector+=fqdndict[c]\n",
    "    fqdnvector/=len(domain)\n",
    "    fqdn_df.append(fqdnvector)"
   ]
  },
  {
   "cell_type": "code",
   "execution_count": 211,
   "id": "db6b1bd9-a7e6-4baa-a0c8-750cde23ffe7",
   "metadata": {},
   "outputs": [],
   "source": [
    "fqdn_name = []\n",
    "for i in range(0,30):\n",
    "    col = \"fqdn_\"+ str(i)\n",
    "    fqdn_name.append(col)\n",
    "    \n",
    "req_name = []\n",
    "for i in range(0,200):\n",
    "    col = \"req_url_\"+ str(i)\n",
    "    req_name.append(col)\n",
    "fqdn_df = pd.DataFrame(fqdn_df, columns=fqdn_name)\n",
    "req_df = pd.DataFrame(req_df, columns=req_name)\n",
    "\n",
    "word_vec_df = pd.concat([fqdn_df, req_df], axis=1)"
   ]
  },
  {
   "cell_type": "code",
   "execution_count": 27,
   "id": "a2570ef4-48b4-4133-b244-7be9013e8f46",
   "metadata": {},
   "outputs": [
    {
     "data": {
      "text/html": [
       "<div>\n",
       "<style scoped>\n",
       "    .dataframe tbody tr th:only-of-type {\n",
       "        vertical-align: middle;\n",
       "    }\n",
       "\n",
       "    .dataframe tbody tr th {\n",
       "        vertical-align: top;\n",
       "    }\n",
       "\n",
       "    .dataframe thead th {\n",
       "        text-align: right;\n",
       "    }\n",
       "</style>\n",
       "<table border=\"1\" class=\"dataframe\">\n",
       "  <thead>\n",
       "    <tr style=\"text-align: right;\">\n",
       "      <th></th>\n",
       "      <th>content_policy_type</th>\n",
       "      <th>fqdn_0</th>\n",
       "      <th>fqdn_1</th>\n",
       "      <th>fqdn_12</th>\n",
       "      <th>fqdn_14</th>\n",
       "      <th>fqdn_17</th>\n",
       "      <th>fqdn_23</th>\n",
       "      <th>fqdn_24</th>\n",
       "      <th>fqdn_25</th>\n",
       "      <th>fqdn_26</th>\n",
       "      <th>...</th>\n",
       "      <th>req_url_121</th>\n",
       "      <th>req_url_135</th>\n",
       "      <th>req_url_179</th>\n",
       "      <th>req_url_18</th>\n",
       "      <th>req_url_21</th>\n",
       "      <th>req_url_22</th>\n",
       "      <th>req_url_33</th>\n",
       "      <th>req_url_38</th>\n",
       "      <th>req_url_91</th>\n",
       "      <th>label</th>\n",
       "    </tr>\n",
       "  </thead>\n",
       "  <tbody>\n",
       "    <tr>\n",
       "      <th>0</th>\n",
       "      <td>main_frame</td>\n",
       "      <td>-0.152640</td>\n",
       "      <td>-0.546892</td>\n",
       "      <td>-0.667190</td>\n",
       "      <td>0.013601</td>\n",
       "      <td>0.441756</td>\n",
       "      <td>-0.093347</td>\n",
       "      <td>0.060051</td>\n",
       "      <td>0.954488</td>\n",
       "      <td>-0.909166</td>\n",
       "      <td>...</td>\n",
       "      <td>-0.228745</td>\n",
       "      <td>-0.539392</td>\n",
       "      <td>-0.107055</td>\n",
       "      <td>-0.759763</td>\n",
       "      <td>0.432369</td>\n",
       "      <td>0.521323</td>\n",
       "      <td>0.405985</td>\n",
       "      <td>-0.040894</td>\n",
       "      <td>-0.523111</td>\n",
       "      <td>False</td>\n",
       "    </tr>\n",
       "    <tr>\n",
       "      <th>1</th>\n",
       "      <td>main_frame</td>\n",
       "      <td>-0.117671</td>\n",
       "      <td>-0.560468</td>\n",
       "      <td>-0.792520</td>\n",
       "      <td>-0.012433</td>\n",
       "      <td>0.535006</td>\n",
       "      <td>-0.034954</td>\n",
       "      <td>-0.084181</td>\n",
       "      <td>0.980041</td>\n",
       "      <td>-0.963042</td>\n",
       "      <td>...</td>\n",
       "      <td>-0.176061</td>\n",
       "      <td>-0.559774</td>\n",
       "      <td>-0.081364</td>\n",
       "      <td>-0.767314</td>\n",
       "      <td>0.417772</td>\n",
       "      <td>0.531816</td>\n",
       "      <td>0.389185</td>\n",
       "      <td>0.011260</td>\n",
       "      <td>-0.497677</td>\n",
       "      <td>False</td>\n",
       "    </tr>\n",
       "    <tr>\n",
       "      <th>2</th>\n",
       "      <td>script</td>\n",
       "      <td>0.364265</td>\n",
       "      <td>0.059967</td>\n",
       "      <td>0.055646</td>\n",
       "      <td>-0.042909</td>\n",
       "      <td>-0.404186</td>\n",
       "      <td>-0.303092</td>\n",
       "      <td>-0.216884</td>\n",
       "      <td>0.263311</td>\n",
       "      <td>-0.811278</td>\n",
       "      <td>...</td>\n",
       "      <td>-0.249772</td>\n",
       "      <td>-0.472135</td>\n",
       "      <td>-0.027587</td>\n",
       "      <td>-0.645954</td>\n",
       "      <td>0.473350</td>\n",
       "      <td>0.490576</td>\n",
       "      <td>0.282350</td>\n",
       "      <td>0.031252</td>\n",
       "      <td>-0.463946</td>\n",
       "      <td>False</td>\n",
       "    </tr>\n",
       "    <tr>\n",
       "      <th>3</th>\n",
       "      <td>script</td>\n",
       "      <td>0.342284</td>\n",
       "      <td>0.004442</td>\n",
       "      <td>-0.075580</td>\n",
       "      <td>0.081413</td>\n",
       "      <td>-0.227664</td>\n",
       "      <td>-0.235425</td>\n",
       "      <td>0.097586</td>\n",
       "      <td>0.512876</td>\n",
       "      <td>-0.736975</td>\n",
       "      <td>...</td>\n",
       "      <td>-0.222038</td>\n",
       "      <td>-0.393168</td>\n",
       "      <td>0.004918</td>\n",
       "      <td>-0.393204</td>\n",
       "      <td>0.169106</td>\n",
       "      <td>0.370731</td>\n",
       "      <td>0.159044</td>\n",
       "      <td>0.069194</td>\n",
       "      <td>-0.336326</td>\n",
       "      <td>False</td>\n",
       "    </tr>\n",
       "    <tr>\n",
       "      <th>4</th>\n",
       "      <td>script</td>\n",
       "      <td>0.342284</td>\n",
       "      <td>0.004442</td>\n",
       "      <td>-0.075580</td>\n",
       "      <td>0.081413</td>\n",
       "      <td>-0.227664</td>\n",
       "      <td>-0.235425</td>\n",
       "      <td>0.097586</td>\n",
       "      <td>0.512876</td>\n",
       "      <td>-0.736975</td>\n",
       "      <td>...</td>\n",
       "      <td>-0.222038</td>\n",
       "      <td>-0.393168</td>\n",
       "      <td>0.004918</td>\n",
       "      <td>-0.393204</td>\n",
       "      <td>0.169106</td>\n",
       "      <td>0.370731</td>\n",
       "      <td>0.159044</td>\n",
       "      <td>0.069194</td>\n",
       "      <td>-0.336326</td>\n",
       "      <td>False</td>\n",
       "    </tr>\n",
       "    <tr>\n",
       "      <th>...</th>\n",
       "      <td>...</td>\n",
       "      <td>...</td>\n",
       "      <td>...</td>\n",
       "      <td>...</td>\n",
       "      <td>...</td>\n",
       "      <td>...</td>\n",
       "      <td>...</td>\n",
       "      <td>...</td>\n",
       "      <td>...</td>\n",
       "      <td>...</td>\n",
       "      <td>...</td>\n",
       "      <td>...</td>\n",
       "      <td>...</td>\n",
       "      <td>...</td>\n",
       "      <td>...</td>\n",
       "      <td>...</td>\n",
       "      <td>...</td>\n",
       "      <td>...</td>\n",
       "      <td>...</td>\n",
       "      <td>...</td>\n",
       "      <td>...</td>\n",
       "    </tr>\n",
       "    <tr>\n",
       "      <th>116677</th>\n",
       "      <td>font</td>\n",
       "      <td>-0.170602</td>\n",
       "      <td>-0.619880</td>\n",
       "      <td>-0.405115</td>\n",
       "      <td>-0.052260</td>\n",
       "      <td>0.420568</td>\n",
       "      <td>-0.101938</td>\n",
       "      <td>0.335232</td>\n",
       "      <td>0.722515</td>\n",
       "      <td>-1.295664</td>\n",
       "      <td>...</td>\n",
       "      <td>-0.084049</td>\n",
       "      <td>-0.486129</td>\n",
       "      <td>-0.009968</td>\n",
       "      <td>-0.760929</td>\n",
       "      <td>0.173264</td>\n",
       "      <td>0.190228</td>\n",
       "      <td>-0.191214</td>\n",
       "      <td>0.170518</td>\n",
       "      <td>-0.087641</td>\n",
       "      <td>False</td>\n",
       "    </tr>\n",
       "    <tr>\n",
       "      <th>116678</th>\n",
       "      <td>sub_frame</td>\n",
       "      <td>0.073656</td>\n",
       "      <td>-0.440562</td>\n",
       "      <td>-0.409615</td>\n",
       "      <td>-0.140995</td>\n",
       "      <td>0.761098</td>\n",
       "      <td>0.063120</td>\n",
       "      <td>0.587713</td>\n",
       "      <td>0.804132</td>\n",
       "      <td>-0.939155</td>\n",
       "      <td>...</td>\n",
       "      <td>-0.159320</td>\n",
       "      <td>-0.415338</td>\n",
       "      <td>0.021846</td>\n",
       "      <td>-0.626516</td>\n",
       "      <td>0.266453</td>\n",
       "      <td>0.496677</td>\n",
       "      <td>0.308287</td>\n",
       "      <td>0.061006</td>\n",
       "      <td>-0.406189</td>\n",
       "      <td>False</td>\n",
       "    </tr>\n",
       "    <tr>\n",
       "      <th>116679</th>\n",
       "      <td>script</td>\n",
       "      <td>-0.194270</td>\n",
       "      <td>-0.662524</td>\n",
       "      <td>-0.429552</td>\n",
       "      <td>-0.088807</td>\n",
       "      <td>0.468143</td>\n",
       "      <td>-0.317437</td>\n",
       "      <td>0.430545</td>\n",
       "      <td>0.744713</td>\n",
       "      <td>-1.199056</td>\n",
       "      <td>...</td>\n",
       "      <td>-0.172181</td>\n",
       "      <td>-0.586788</td>\n",
       "      <td>0.011731</td>\n",
       "      <td>-0.674680</td>\n",
       "      <td>0.264336</td>\n",
       "      <td>0.392884</td>\n",
       "      <td>0.087102</td>\n",
       "      <td>0.104103</td>\n",
       "      <td>-0.425445</td>\n",
       "      <td>False</td>\n",
       "    </tr>\n",
       "    <tr>\n",
       "      <th>116680</th>\n",
       "      <td>script</td>\n",
       "      <td>-0.098370</td>\n",
       "      <td>-0.482271</td>\n",
       "      <td>-0.320844</td>\n",
       "      <td>0.031588</td>\n",
       "      <td>0.252629</td>\n",
       "      <td>-0.249348</td>\n",
       "      <td>0.449975</td>\n",
       "      <td>0.702837</td>\n",
       "      <td>-0.948058</td>\n",
       "      <td>...</td>\n",
       "      <td>-0.301018</td>\n",
       "      <td>-0.753296</td>\n",
       "      <td>-0.133408</td>\n",
       "      <td>-0.758383</td>\n",
       "      <td>0.351124</td>\n",
       "      <td>0.437582</td>\n",
       "      <td>0.326339</td>\n",
       "      <td>0.012052</td>\n",
       "      <td>-0.520431</td>\n",
       "      <td>False</td>\n",
       "    </tr>\n",
       "    <tr>\n",
       "      <th>116681</th>\n",
       "      <td>script</td>\n",
       "      <td>-0.098370</td>\n",
       "      <td>-0.482271</td>\n",
       "      <td>-0.320844</td>\n",
       "      <td>0.031588</td>\n",
       "      <td>0.252629</td>\n",
       "      <td>-0.249348</td>\n",
       "      <td>0.449975</td>\n",
       "      <td>0.702837</td>\n",
       "      <td>-0.948058</td>\n",
       "      <td>...</td>\n",
       "      <td>-0.201382</td>\n",
       "      <td>-0.673240</td>\n",
       "      <td>-0.097079</td>\n",
       "      <td>-0.827093</td>\n",
       "      <td>0.327304</td>\n",
       "      <td>0.427883</td>\n",
       "      <td>0.184772</td>\n",
       "      <td>0.070313</td>\n",
       "      <td>-0.382987</td>\n",
       "      <td>False</td>\n",
       "    </tr>\n",
       "  </tbody>\n",
       "</table>\n",
       "<p>116682 rows × 28 columns</p>\n",
       "</div>"
      ],
      "text/plain": [
       "       content_policy_type    fqdn_0    fqdn_1   fqdn_12   fqdn_14   fqdn_17  \\\n",
       "0               main_frame -0.152640 -0.546892 -0.667190  0.013601  0.441756   \n",
       "1               main_frame -0.117671 -0.560468 -0.792520 -0.012433  0.535006   \n",
       "2                   script  0.364265  0.059967  0.055646 -0.042909 -0.404186   \n",
       "3                   script  0.342284  0.004442 -0.075580  0.081413 -0.227664   \n",
       "4                   script  0.342284  0.004442 -0.075580  0.081413 -0.227664   \n",
       "...                    ...       ...       ...       ...       ...       ...   \n",
       "116677                font -0.170602 -0.619880 -0.405115 -0.052260  0.420568   \n",
       "116678           sub_frame  0.073656 -0.440562 -0.409615 -0.140995  0.761098   \n",
       "116679              script -0.194270 -0.662524 -0.429552 -0.088807  0.468143   \n",
       "116680              script -0.098370 -0.482271 -0.320844  0.031588  0.252629   \n",
       "116681              script -0.098370 -0.482271 -0.320844  0.031588  0.252629   \n",
       "\n",
       "         fqdn_23   fqdn_24   fqdn_25   fqdn_26  ...  req_url_121  req_url_135  \\\n",
       "0      -0.093347  0.060051  0.954488 -0.909166  ...    -0.228745    -0.539392   \n",
       "1      -0.034954 -0.084181  0.980041 -0.963042  ...    -0.176061    -0.559774   \n",
       "2      -0.303092 -0.216884  0.263311 -0.811278  ...    -0.249772    -0.472135   \n",
       "3      -0.235425  0.097586  0.512876 -0.736975  ...    -0.222038    -0.393168   \n",
       "4      -0.235425  0.097586  0.512876 -0.736975  ...    -0.222038    -0.393168   \n",
       "...          ...       ...       ...       ...  ...          ...          ...   \n",
       "116677 -0.101938  0.335232  0.722515 -1.295664  ...    -0.084049    -0.486129   \n",
       "116678  0.063120  0.587713  0.804132 -0.939155  ...    -0.159320    -0.415338   \n",
       "116679 -0.317437  0.430545  0.744713 -1.199056  ...    -0.172181    -0.586788   \n",
       "116680 -0.249348  0.449975  0.702837 -0.948058  ...    -0.301018    -0.753296   \n",
       "116681 -0.249348  0.449975  0.702837 -0.948058  ...    -0.201382    -0.673240   \n",
       "\n",
       "        req_url_179  req_url_18  req_url_21  req_url_22  req_url_33  \\\n",
       "0         -0.107055   -0.759763    0.432369    0.521323    0.405985   \n",
       "1         -0.081364   -0.767314    0.417772    0.531816    0.389185   \n",
       "2         -0.027587   -0.645954    0.473350    0.490576    0.282350   \n",
       "3          0.004918   -0.393204    0.169106    0.370731    0.159044   \n",
       "4          0.004918   -0.393204    0.169106    0.370731    0.159044   \n",
       "...             ...         ...         ...         ...         ...   \n",
       "116677    -0.009968   -0.760929    0.173264    0.190228   -0.191214   \n",
       "116678     0.021846   -0.626516    0.266453    0.496677    0.308287   \n",
       "116679     0.011731   -0.674680    0.264336    0.392884    0.087102   \n",
       "116680    -0.133408   -0.758383    0.351124    0.437582    0.326339   \n",
       "116681    -0.097079   -0.827093    0.327304    0.427883    0.184772   \n",
       "\n",
       "        req_url_38  req_url_91  label  \n",
       "0        -0.040894   -0.523111  False  \n",
       "1         0.011260   -0.497677  False  \n",
       "2         0.031252   -0.463946  False  \n",
       "3         0.069194   -0.336326  False  \n",
       "4         0.069194   -0.336326  False  \n",
       "...            ...         ...    ...  \n",
       "116677    0.170518   -0.087641  False  \n",
       "116678    0.061006   -0.406189  False  \n",
       "116679    0.104103   -0.425445  False  \n",
       "116680    0.012052   -0.520431  False  \n",
       "116681    0.070313   -0.382987  False  \n",
       "\n",
       "[116682 rows x 28 columns]"
      ]
     },
     "execution_count": 27,
     "metadata": {},
     "output_type": "execute_result"
    }
   ],
   "source": [
    "mut_df"
   ]
  },
  {
   "cell_type": "code",
   "execution_count": 26,
   "id": "8e0b259a-bd08-4d9b-867b-bbb6387e8474",
   "metadata": {},
   "outputs": [
    {
     "data": {
      "text/html": [
       "<table class='dataframe'>\n",
       "<thead>\n",
       "<tr><th>content_policy_type  </th><th style=\"text-align: right;\">   fqdn_0</th><th style=\"text-align: right;\">     fqdn_1</th><th style=\"text-align: right;\">   fqdn_12</th><th style=\"text-align: right;\">   fqdn_14</th><th style=\"text-align: right;\">  fqdn_17</th><th style=\"text-align: right;\">   fqdn_23</th><th style=\"text-align: right;\">   fqdn_24</th><th style=\"text-align: right;\">  fqdn_25</th><th style=\"text-align: right;\">  fqdn_26</th><th style=\"text-align: right;\">  fqdn_27</th><th style=\"text-align: right;\">    fqdn_4</th><th style=\"text-align: right;\">    fqdn_6</th><th style=\"text-align: right;\">  is_subdomain</th><th style=\"text-align: right;\">  is_third_party</th><th style=\"text-align: right;\">  keyword_char_present</th><th style=\"text-align: right;\">  num_requests_sent</th><th style=\"text-align: right;\">  num_set_storage</th><th style=\"text-align: right;\">  req_url_121</th><th style=\"text-align: right;\">  req_url_135</th><th style=\"text-align: right;\">  req_url_179</th><th style=\"text-align: right;\">  req_url_18</th><th style=\"text-align: right;\">  req_url_21</th><th style=\"text-align: right;\">  req_url_22</th><th style=\"text-align: right;\">  req_url_33</th><th style=\"text-align: right;\">  req_url_38</th><th style=\"text-align: right;\">  req_url_91</th></tr>\n",
       "</thead>\n",
       "<tbody>\n",
       "<tr><td>main_frame           </td><td style=\"text-align: right;\">-0.15264 </td><td style=\"text-align: right;\">-0.546892  </td><td style=\"text-align: right;\">-0.66719  </td><td style=\"text-align: right;\"> 0.0136007</td><td style=\"text-align: right;\"> 0.441756</td><td style=\"text-align: right;\">-0.0933466</td><td style=\"text-align: right;\"> 0.0600509</td><td style=\"text-align: right;\"> 0.954488</td><td style=\"text-align: right;\">-0.909166</td><td style=\"text-align: right;\">-0.770389</td><td style=\"text-align: right;\">-0.159188 </td><td style=\"text-align: right;\"> 0.585305 </td><td style=\"text-align: right;\">             1</td><td style=\"text-align: right;\">               0</td><td style=\"text-align: right;\">                     0</td><td style=\"text-align: right;\">                  2</td><td style=\"text-align: right;\">                0</td><td style=\"text-align: right;\">   -0.228745 </td><td style=\"text-align: right;\">   -0.539392 </td><td style=\"text-align: right;\">  -0.107055  </td><td style=\"text-align: right;\">  -0.759763 </td><td style=\"text-align: right;\">   0.432369 </td><td style=\"text-align: right;\">   0.521323 </td><td style=\"text-align: right;\">    0.405985</td><td style=\"text-align: right;\">  -0.0408941</td><td style=\"text-align: right;\">  -0.523111 </td></tr>\n",
       "<tr><td>main_frame           </td><td style=\"text-align: right;\">-0.117671</td><td style=\"text-align: right;\">-0.560468  </td><td style=\"text-align: right;\">-0.79252  </td><td style=\"text-align: right;\">-0.0124325</td><td style=\"text-align: right;\"> 0.535006</td><td style=\"text-align: right;\">-0.0349536</td><td style=\"text-align: right;\">-0.0841807</td><td style=\"text-align: right;\"> 0.980041</td><td style=\"text-align: right;\">-0.963042</td><td style=\"text-align: right;\">-0.745699</td><td style=\"text-align: right;\">-0.239322 </td><td style=\"text-align: right;\"> 0.637288 </td><td style=\"text-align: right;\">             1</td><td style=\"text-align: right;\">               0</td><td style=\"text-align: right;\">                     0</td><td style=\"text-align: right;\">                  9</td><td style=\"text-align: right;\">                0</td><td style=\"text-align: right;\">   -0.176061 </td><td style=\"text-align: right;\">   -0.559774 </td><td style=\"text-align: right;\">  -0.0813635 </td><td style=\"text-align: right;\">  -0.767314 </td><td style=\"text-align: right;\">   0.417772 </td><td style=\"text-align: right;\">   0.531816 </td><td style=\"text-align: right;\">    0.389185</td><td style=\"text-align: right;\">   0.0112596</td><td style=\"text-align: right;\">  -0.497677 </td></tr>\n",
       "<tr><td>script               </td><td style=\"text-align: right;\"> 0.364265</td><td style=\"text-align: right;\"> 0.0599665 </td><td style=\"text-align: right;\"> 0.0556457</td><td style=\"text-align: right;\">-0.0429086</td><td style=\"text-align: right;\">-0.404186</td><td style=\"text-align: right;\">-0.303092 </td><td style=\"text-align: right;\">-0.216884 </td><td style=\"text-align: right;\"> 0.263311</td><td style=\"text-align: right;\">-0.811278</td><td style=\"text-align: right;\">-0.624617</td><td style=\"text-align: right;\">-0.0689018</td><td style=\"text-align: right;\">-0.17864  </td><td style=\"text-align: right;\">             0</td><td style=\"text-align: right;\">               1</td><td style=\"text-align: right;\">                     0</td><td style=\"text-align: right;\">                  1</td><td style=\"text-align: right;\">                0</td><td style=\"text-align: right;\">   -0.249772 </td><td style=\"text-align: right;\">   -0.472135 </td><td style=\"text-align: right;\">  -0.0275868 </td><td style=\"text-align: right;\">  -0.645954 </td><td style=\"text-align: right;\">   0.47335  </td><td style=\"text-align: right;\">   0.490576 </td><td style=\"text-align: right;\">    0.28235 </td><td style=\"text-align: right;\">   0.0312524</td><td style=\"text-align: right;\">  -0.463946 </td></tr>\n",
       "<tr><td>script               </td><td style=\"text-align: right;\"> 0.342284</td><td style=\"text-align: right;\"> 0.00444213</td><td style=\"text-align: right;\">-0.0755802</td><td style=\"text-align: right;\"> 0.081413 </td><td style=\"text-align: right;\">-0.227664</td><td style=\"text-align: right;\">-0.235425 </td><td style=\"text-align: right;\"> 0.0975857</td><td style=\"text-align: right;\"> 0.512876</td><td style=\"text-align: right;\">-0.736975</td><td style=\"text-align: right;\">-0.555548</td><td style=\"text-align: right;\"> 0.0979708</td><td style=\"text-align: right;\"> 0.0768501</td><td style=\"text-align: right;\">             0</td><td style=\"text-align: right;\">               1</td><td style=\"text-align: right;\">                     0</td><td style=\"text-align: right;\">                  1</td><td style=\"text-align: right;\">                1</td><td style=\"text-align: right;\">   -0.222038 </td><td style=\"text-align: right;\">   -0.393168 </td><td style=\"text-align: right;\">   0.00491813</td><td style=\"text-align: right;\">  -0.393204 </td><td style=\"text-align: right;\">   0.169106 </td><td style=\"text-align: right;\">   0.370731 </td><td style=\"text-align: right;\">    0.159044</td><td style=\"text-align: right;\">   0.0691944</td><td style=\"text-align: right;\">  -0.336326 </td></tr>\n",
       "<tr><td>script               </td><td style=\"text-align: right;\"> 0.342284</td><td style=\"text-align: right;\"> 0.00444213</td><td style=\"text-align: right;\">-0.0755802</td><td style=\"text-align: right;\"> 0.081413 </td><td style=\"text-align: right;\">-0.227664</td><td style=\"text-align: right;\">-0.235425 </td><td style=\"text-align: right;\"> 0.0975857</td><td style=\"text-align: right;\"> 0.512876</td><td style=\"text-align: right;\">-0.736975</td><td style=\"text-align: right;\">-0.555548</td><td style=\"text-align: right;\"> 0.0979708</td><td style=\"text-align: right;\"> 0.0768501</td><td style=\"text-align: right;\">             0</td><td style=\"text-align: right;\">               1</td><td style=\"text-align: right;\">                     0</td><td style=\"text-align: right;\">                  1</td><td style=\"text-align: right;\">                1</td><td style=\"text-align: right;\">   -0.222038 </td><td style=\"text-align: right;\">   -0.393168 </td><td style=\"text-align: right;\">   0.00491813</td><td style=\"text-align: right;\">  -0.393204 </td><td style=\"text-align: right;\">   0.169106 </td><td style=\"text-align: right;\">   0.370731 </td><td style=\"text-align: right;\">    0.159044</td><td style=\"text-align: right;\">   0.0691944</td><td style=\"text-align: right;\">  -0.336326 </td></tr>\n",
       "<tr><td>script               </td><td style=\"text-align: right;\"> 0.342284</td><td style=\"text-align: right;\"> 0.00444213</td><td style=\"text-align: right;\">-0.0755802</td><td style=\"text-align: right;\"> 0.081413 </td><td style=\"text-align: right;\">-0.227664</td><td style=\"text-align: right;\">-0.235425 </td><td style=\"text-align: right;\"> 0.0975857</td><td style=\"text-align: right;\"> 0.512876</td><td style=\"text-align: right;\">-0.736975</td><td style=\"text-align: right;\">-0.555548</td><td style=\"text-align: right;\"> 0.0979708</td><td style=\"text-align: right;\"> 0.0768501</td><td style=\"text-align: right;\">             0</td><td style=\"text-align: right;\">               1</td><td style=\"text-align: right;\">                     0</td><td style=\"text-align: right;\">                  0</td><td style=\"text-align: right;\">                0</td><td style=\"text-align: right;\">   -0.222038 </td><td style=\"text-align: right;\">   -0.393168 </td><td style=\"text-align: right;\">   0.00491813</td><td style=\"text-align: right;\">  -0.393204 </td><td style=\"text-align: right;\">   0.169106 </td><td style=\"text-align: right;\">   0.370731 </td><td style=\"text-align: right;\">    0.159044</td><td style=\"text-align: right;\">   0.0691944</td><td style=\"text-align: right;\">  -0.336326 </td></tr>\n",
       "<tr><td>script               </td><td style=\"text-align: right;\"> 0.342284</td><td style=\"text-align: right;\"> 0.00444213</td><td style=\"text-align: right;\">-0.0755802</td><td style=\"text-align: right;\"> 0.081413 </td><td style=\"text-align: right;\">-0.227664</td><td style=\"text-align: right;\">-0.235425 </td><td style=\"text-align: right;\"> 0.0975857</td><td style=\"text-align: right;\"> 0.512876</td><td style=\"text-align: right;\">-0.736975</td><td style=\"text-align: right;\">-0.555548</td><td style=\"text-align: right;\"> 0.0979708</td><td style=\"text-align: right;\"> 0.0768501</td><td style=\"text-align: right;\">             0</td><td style=\"text-align: right;\">               1</td><td style=\"text-align: right;\">                     0</td><td style=\"text-align: right;\">                  0</td><td style=\"text-align: right;\">                0</td><td style=\"text-align: right;\">   -0.222038 </td><td style=\"text-align: right;\">   -0.393168 </td><td style=\"text-align: right;\">   0.00491813</td><td style=\"text-align: right;\">  -0.393204 </td><td style=\"text-align: right;\">   0.169106 </td><td style=\"text-align: right;\">   0.370731 </td><td style=\"text-align: right;\">    0.159044</td><td style=\"text-align: right;\">   0.0691944</td><td style=\"text-align: right;\">  -0.336326 </td></tr>\n",
       "<tr><td>sub_frame            </td><td style=\"text-align: right;\"> 0.364265</td><td style=\"text-align: right;\"> 0.0599665 </td><td style=\"text-align: right;\"> 0.0556457</td><td style=\"text-align: right;\">-0.0429086</td><td style=\"text-align: right;\">-0.404186</td><td style=\"text-align: right;\">-0.303092 </td><td style=\"text-align: right;\">-0.216884 </td><td style=\"text-align: right;\"> 0.263311</td><td style=\"text-align: right;\">-0.811278</td><td style=\"text-align: right;\">-0.624617</td><td style=\"text-align: right;\">-0.0689018</td><td style=\"text-align: right;\">-0.17864  </td><td style=\"text-align: right;\">             0</td><td style=\"text-align: right;\">               1</td><td style=\"text-align: right;\">                     1</td><td style=\"text-align: right;\">                  0</td><td style=\"text-align: right;\">                0</td><td style=\"text-align: right;\">   -0.0621938</td><td style=\"text-align: right;\">   -0.0774157</td><td style=\"text-align: right;\">   0.0444398 </td><td style=\"text-align: right;\">  -0.0155474</td><td style=\"text-align: right;\">  -0.0277931</td><td style=\"text-align: right;\">   0.0638106</td><td style=\"text-align: right;\">   -0.128063</td><td style=\"text-align: right;\">   0.181248 </td><td style=\"text-align: right;\">  -0.0870932</td></tr>\n",
       "<tr><td>image                </td><td style=\"text-align: right;\"> 0.342284</td><td style=\"text-align: right;\"> 0.00444213</td><td style=\"text-align: right;\">-0.0755802</td><td style=\"text-align: right;\"> 0.081413 </td><td style=\"text-align: right;\">-0.227664</td><td style=\"text-align: right;\">-0.235425 </td><td style=\"text-align: right;\"> 0.0975857</td><td style=\"text-align: right;\"> 0.512876</td><td style=\"text-align: right;\">-0.736975</td><td style=\"text-align: right;\">-0.555548</td><td style=\"text-align: right;\"> 0.0979708</td><td style=\"text-align: right;\"> 0.0768501</td><td style=\"text-align: right;\">             0</td><td style=\"text-align: right;\">               1</td><td style=\"text-align: right;\">                     0</td><td style=\"text-align: right;\">                  0</td><td style=\"text-align: right;\">                0</td><td style=\"text-align: right;\">   -0.239372 </td><td style=\"text-align: right;\">   -0.434929 </td><td style=\"text-align: right;\">   0.0176569 </td><td style=\"text-align: right;\">  -0.64488  </td><td style=\"text-align: right;\">   0.389464 </td><td style=\"text-align: right;\">   0.452307 </td><td style=\"text-align: right;\">    0.191497</td><td style=\"text-align: right;\">   0.0549185</td><td style=\"text-align: right;\">  -0.398228 </td></tr>\n",
       "<tr><td>stylesheet           </td><td style=\"text-align: right;\">-0.117671</td><td style=\"text-align: right;\">-0.560468  </td><td style=\"text-align: right;\">-0.79252  </td><td style=\"text-align: right;\">-0.0124325</td><td style=\"text-align: right;\"> 0.535006</td><td style=\"text-align: right;\">-0.0349536</td><td style=\"text-align: right;\">-0.0841807</td><td style=\"text-align: right;\"> 0.980041</td><td style=\"text-align: right;\">-0.963042</td><td style=\"text-align: right;\">-0.745699</td><td style=\"text-align: right;\">-0.239322 </td><td style=\"text-align: right;\"> 0.637288 </td><td style=\"text-align: right;\">             1</td><td style=\"text-align: right;\">               0</td><td style=\"text-align: right;\">                     0</td><td style=\"text-align: right;\">                  0</td><td style=\"text-align: right;\">                0</td><td style=\"text-align: right;\">   -0.131715 </td><td style=\"text-align: right;\">   -0.516956 </td><td style=\"text-align: right;\">  -0.0151478 </td><td style=\"text-align: right;\">  -0.693912 </td><td style=\"text-align: right;\">   0.348919 </td><td style=\"text-align: right;\">   0.49455  </td><td style=\"text-align: right;\">    0.34061 </td><td style=\"text-align: right;\">   0.0499303</td><td style=\"text-align: right;\">  -0.466844 </td></tr>\n",
       "</tbody>\n",
       "</table><pre style='font-size: smaller; margin-bottom: 1em;'>[116682 rows x 27 columns]</pre>"
      ],
      "text/plain": [
       "content_policy_type       fqdn_0       fqdn_1     fqdn_12     fqdn_14    fqdn_17     fqdn_23     fqdn_24    fqdn_25    fqdn_26    fqdn_27      fqdn_4      fqdn_6    is_subdomain    is_third_party    keyword_char_present    num_requests_sent    num_set_storage    req_url_121    req_url_135    req_url_179    req_url_18    req_url_21    req_url_22    req_url_33    req_url_38    req_url_91\n",
       "---------------------  ---------  -----------  ----------  ----------  ---------  ----------  ----------  ---------  ---------  ---------  ----------  ----------  --------------  ----------------  ----------------------  -------------------  -----------------  -------------  -------------  -------------  ------------  ------------  ------------  ------------  ------------  ------------\n",
       "main_frame             -0.15264   -0.546892    -0.66719     0.0136007   0.441756  -0.0933466   0.0600509   0.954488  -0.909166  -0.770389  -0.159188    0.585305                1                 0                       0                    2                  0     -0.228745      -0.539392     -0.107055      -0.759763      0.432369      0.521323       0.405985    -0.0408941    -0.523111\n",
       "main_frame             -0.117671  -0.560468    -0.79252    -0.0124325   0.535006  -0.0349536  -0.0841807   0.980041  -0.963042  -0.745699  -0.239322    0.637288                1                 0                       0                    9                  0     -0.176061      -0.559774     -0.0813635     -0.767314      0.417772      0.531816       0.389185     0.0112596    -0.497677\n",
       "script                  0.364265   0.0599665    0.0556457  -0.0429086  -0.404186  -0.303092   -0.216884    0.263311  -0.811278  -0.624617  -0.0689018  -0.17864                 0                 1                       0                    1                  0     -0.249772      -0.472135     -0.0275868     -0.645954      0.47335       0.490576       0.28235      0.0312524    -0.463946\n",
       "script                  0.342284   0.00444213  -0.0755802   0.081413   -0.227664  -0.235425    0.0975857   0.512876  -0.736975  -0.555548   0.0979708   0.0768501               0                 1                       0                    1                  1     -0.222038      -0.393168      0.00491813    -0.393204      0.169106      0.370731       0.159044     0.0691944    -0.336326\n",
       "script                  0.342284   0.00444213  -0.0755802   0.081413   -0.227664  -0.235425    0.0975857   0.512876  -0.736975  -0.555548   0.0979708   0.0768501               0                 1                       0                    1                  1     -0.222038      -0.393168      0.00491813    -0.393204      0.169106      0.370731       0.159044     0.0691944    -0.336326\n",
       "script                  0.342284   0.00444213  -0.0755802   0.081413   -0.227664  -0.235425    0.0975857   0.512876  -0.736975  -0.555548   0.0979708   0.0768501               0                 1                       0                    0                  0     -0.222038      -0.393168      0.00491813    -0.393204      0.169106      0.370731       0.159044     0.0691944    -0.336326\n",
       "script                  0.342284   0.00444213  -0.0755802   0.081413   -0.227664  -0.235425    0.0975857   0.512876  -0.736975  -0.555548   0.0979708   0.0768501               0                 1                       0                    0                  0     -0.222038      -0.393168      0.00491813    -0.393204      0.169106      0.370731       0.159044     0.0691944    -0.336326\n",
       "sub_frame               0.364265   0.0599665    0.0556457  -0.0429086  -0.404186  -0.303092   -0.216884    0.263311  -0.811278  -0.624617  -0.0689018  -0.17864                 0                 1                       1                    0                  0     -0.0621938     -0.0774157     0.0444398     -0.0155474    -0.0277931     0.0638106     -0.128063     0.181248     -0.0870932\n",
       "image                   0.342284   0.00444213  -0.0755802   0.081413   -0.227664  -0.235425    0.0975857   0.512876  -0.736975  -0.555548   0.0979708   0.0768501               0                 1                       0                    0                  0     -0.239372      -0.434929      0.0176569     -0.64488       0.389464      0.452307       0.191497     0.0549185    -0.398228\n",
       "stylesheet             -0.117671  -0.560468    -0.79252    -0.0124325   0.535006  -0.0349536  -0.0841807   0.980041  -0.963042  -0.745699  -0.239322    0.637288                1                 0                       0                    0                  0     -0.131715      -0.516956     -0.0151478     -0.693912      0.348919      0.49455        0.34061      0.0499303    -0.466844\n",
       "[116682 rows x 27 columns]\n"
      ]
     },
     "execution_count": 26,
     "metadata": {},
     "output_type": "execute_result"
    }
   ],
   "source": [
    "mut_test_x"
   ]
  }
 ],
 "metadata": {
  "kernelspec": {
   "display_name": "Python 3 (ipykernel)",
   "language": "python",
   "name": "python3"
  },
  "language_info": {
   "codemirror_mode": {
    "name": "ipython",
    "version": 3
   },
   "file_extension": ".py",
   "mimetype": "text/x-python",
   "name": "python",
   "nbconvert_exporter": "python",
   "pygments_lexer": "ipython3",
   "version": "3.9.13"
  }
 },
 "nbformat": 4,
 "nbformat_minor": 5
}
