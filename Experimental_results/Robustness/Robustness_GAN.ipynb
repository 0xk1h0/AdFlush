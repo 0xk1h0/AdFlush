{
 "cells": [
  {
   "cell_type": "code",
   "execution_count": 1,
   "id": "e0171ea6-afd6-4a40-84c1-6ee83e8f4f4e",
   "metadata": {},
   "outputs": [],
   "source": [
    "import pandas as pd\n",
    "import numpy as np\n",
    "import joblib\n",
    "import onnx\n",
    "import onnxruntime as ort\n",
    "import torch\n",
    "print(torch.cuda.is_available())\n",
    "from category_encoders.target_encoder import TargetEncoder\n",
    "from sklearn.model_selection import train_test_split\n",
    "from tabgan.sampler import OriginalGenerator, GANGenerator\n",
    "from sklearn.metrics import (\n",
    "    confusion_matrix,\n",
    "    accuracy_score,\n",
    "    precision_score,\n",
    "    recall_score,\n",
    "    f1_score,\n",
    "    roc_auc_score\n",
    ")\n",
    "from sewar.full_ref import mse, rmse, psnr, uqi, ssim, ergas, scc, rase, sam, msssim, vifp\n",
    "from art.estimators.classification import PyTorchClassifier\n",
    "from art.metrics import clever"
   ]
  },
  {
   "cell_type": "code",
   "execution_count": 2,
   "id": "336abae5-ee08-4d16-974f-7615a6d82fe4",
   "metadata": {},
   "outputs": [],
   "source": [
    "def metrics(true, pred):\n",
    "    print(accuracy_score(true, pred))\n",
    "    print(precision_score(true, pred))\n",
    "    print(recall_score(true, pred))\n",
    "    print(f1_score(true, pred))\n",
    "     # Number of attacks\n",
    "    total_attacks = len(true)\n",
    "    \n",
    "    # Number of successful attacks (misclassifications)\n",
    "    successful_attacks = sum(true != pred)\n",
    "    \n",
    "    # ASR\n",
    "    asr = successful_attacks / total_attacks\n",
    "    print(asr)"
   ]
  },
  {
   "cell_type": "code",
   "execution_count": 3,
   "id": "c99fb3a1-5afb-4336-9368-3b63f551cd54",
   "metadata": {
    "tags": []
   },
   "outputs": [],
   "source": [
    "df = pd.read_csv('./dataset/all_df_350.csv', index_col=[0])\n",
    "# df, _ = reduce_mem_usage(df)\n",
    "te = TargetEncoder()\n",
    "df['content_policy_type'] = te.fit_transform(df['content_policy_type'], df.label)"
   ]
  },
  {
   "cell_type": "code",
   "execution_count": null,
   "id": "0b6fd8c5-224e-48de-97e3-7c408992b651",
   "metadata": {},
   "outputs": [],
   "source": [
    "label_df = df[['visit_id', 'name','content_policy_type',\n",
    "  'fqdn_0',\n",
    "  'fqdn_1',\n",
    "  'fqdn_12',\n",
    "  'fqdn_14',\n",
    "  'fqdn_17',\n",
    "  'fqdn_23',\n",
    "  'fqdn_24',\n",
    "  'fqdn_25',\n",
    "  'fqdn_26',\n",
    "  'fqdn_27',\n",
    "  'fqdn_4',\n",
    "  'fqdn_6',\n",
    "  'is_subdomain',\n",
    "  'is_third_party',\n",
    "  'keyword_char_present',\n",
    "  'num_requests_sent',\n",
    "  'num_set_storage',\n",
    "  'req_url_121',\n",
    "  'req_url_135',\n",
    "  'req_url_179',\n",
    "  'req_url_18',\n",
    "  'req_url_21',\n",
    "  'req_url_22',\n",
    "  'req_url_33',\n",
    "  'req_url_38',\n",
    "  'req_url_91', 'label']]"
   ]
  },
  {
   "cell_type": "code",
   "execution_count": null,
   "id": "aa149e08-54f1-4aad-86fa-d235eedddc6d",
   "metadata": {},
   "outputs": [],
   "source": [
    "# label_df.to_csv('/data/kiho/webtrack/feature_extracted/RFECV_27_0625.csv')"
   ]
  },
  {
   "cell_type": "code",
   "execution_count": 7,
   "id": "909365fc-94bb-43ff-90a8-a26b2aa2057a",
   "metadata": {},
   "outputs": [
    {
     "data": {
      "application/vnd.jupyter.widget-view+json": {
       "model_id": "c3e4afa4e5984e41a6a1cb780670e182",
       "version_major": 2,
       "version_minor": 0
      },
      "text/plain": [
       "Fitting CTGAN transformers for each column:   0%|          | 0/28 [00:00<?, ?it/s]"
      ]
     },
     "metadata": {},
     "output_type": "display_data"
    },
    {
     "data": {
      "application/vnd.jupyter.widget-view+json": {
       "model_id": "0bc8ceb9d2ac432fa5e2475c5dd82b67",
       "version_major": 2,
       "version_minor": 0
      },
      "text/plain": [
       "Training CTGAN, epochs::   0%|          | 0/50 [00:00<?, ?it/s]"
      ]
     },
     "metadata": {},
     "output_type": "display_data"
    }
   ],
   "source": [
    "df_ = label_df[label_df.columns[:]].sample(frac=1)\n",
    "train, test = train_test_split(df_, test_size = 0.2, shuffle = True, random_state=42)\n",
    "# random input data\n",
    "train_df = train[train.columns[2:-1]]\n",
    "target_df = pd.DataFrame(train['label'])\n",
    "test_df = test[test.columns[2:-1]]\n",
    "\n",
    "new_train3, new_target3 = GANGenerator(gen_x_times=1.1, cat_cols=None,\n",
    "           bot_filter_quantile=0.001, top_filter_quantile=0.999, is_post_process=True,\n",
    "           adversarial_model_params={\n",
    "               \"metrics\": \"AUC\", \"max_depth\": 2, \"max_bin\": 100, \n",
    "               \"learning_rate\": 0.02, \"random_state\": 42, \"n_estimators\": 100,\n",
    "           }, pregeneration_frac=2, only_generated_data=False,\n",
    "           gan_params = {\"batch_size\": 2000, \"patience\": 25, \"epochs\" : 50,}).generate_data_pipe(train_df, target_df,\n",
    "                                          test_df, deep_copy=True, only_adversarial=False, use_adversarial=True)"
   ]
  },
  {
   "cell_type": "markdown",
   "id": "897b07bf-6874-4604-8cc8-ee2edfc2e33d",
   "metadata": {},
   "source": [
    "## AdGraph"
   ]
  },
  {
   "cell_type": "code",
   "execution_count": 12,
   "id": "f375b9ae-b7fb-40d6-8bc4-65ff65a1eb53",
   "metadata": {},
   "outputs": [],
   "source": [
    "data_df = pd.read_csv('./dataset/ad_features.csv', index_col=[0])\n",
    "label_df = pd.read_csv('./dataset/ad_labelled.csv', index_col=[0])\n",
    "data_df = data_df.reset_index(drop=True)\n",
    "label_df = label_df.reset_index(drop=True)\n",
    "# label_df = label_df['label']\n",
    "# data_df = pd.concat([data_df, label_df], axis = 1)\n",
    "df_labelled = data_df.merge(label_df[['visit_id', 'name', 'label']], on=['visit_id', 'name'])\n",
    "df_labelled = df_labelled[df_labelled['label'] != \"Error\"]\n",
    "te = TargetEncoder()\n",
    "df_labelled['content_policy_type'] = te.fit_transform(df_labelled['content_policy_type'], df_labelled.label)"
   ]
  },
  {
   "cell_type": "code",
   "execution_count": 13,
   "id": "856b5bcc-68d4-4ae4-be2f-86fcdc9ee783",
   "metadata": {},
   "outputs": [],
   "source": [
    "df_ = df_labelled[df_labelled.columns[2:]].sample(frac=1)\n",
    "train, test = train_test_split(df_, test_size = 0.2, shuffle = True, random_state=42)\n",
    "# random input data\n",
    "train_df = train[train.columns[:-1]]\n",
    "target_df = pd.DataFrame(train['label'])\n",
    "test_df = test[test.columns[:-1]]"
   ]
  },
  {
   "cell_type": "code",
   "execution_count": 14,
   "id": "a524ec3f-e452-4111-b290-307f15bff12b",
   "metadata": {},
   "outputs": [
    {
     "data": {
      "application/vnd.jupyter.widget-view+json": {
       "model_id": "f0df73b0b1834c71a30c776a456abd7b",
       "version_major": 2,
       "version_minor": 0
      },
      "text/plain": [
       "Fitting CTGAN transformers for each column:   0%|          | 0/29 [00:00<?, ?it/s]"
      ]
     },
     "metadata": {},
     "output_type": "display_data"
    },
    {
     "data": {
      "application/vnd.jupyter.widget-view+json": {
       "model_id": "124fdcb7dfe044ba970a69ee86e4d36b",
       "version_major": 2,
       "version_minor": 0
      },
      "text/plain": [
       "Training CTGAN, epochs::   0%|          | 0/50 [00:00<?, ?it/s]"
      ]
     },
     "metadata": {},
     "output_type": "display_data"
    }
   ],
   "source": [
    "# generate data\n",
    "# new_train1, new_target1 = OriginalGenerator().generate_data_pipe(train_df, target_df, test_df, )\n",
    "# new_train2, new_target2 = GANGenerator().generate_data_pipe(train_df, target_df, test_df, )\n",
    "\n",
    "# example with all params defined\n",
    "new_train3, new_target3 = GANGenerator(gen_x_times=1.1, cat_cols=None,\n",
    "           bot_filter_quantile=0.001, top_filter_quantile=0.999, is_post_process=True,\n",
    "           adversarial_model_params={\n",
    "               \"metrics\": \"AUC\", \"max_depth\": 2, \"max_bin\": 100, \n",
    "               \"learning_rate\": 0.02, \"random_state\": 42, \"n_estimators\": 100,\n",
    "           }, pregeneration_frac=2, only_generated_data=False,\n",
    "           gan_params = {\"batch_size\": 2000, \"patience\": 25, \"epochs\" : 50,}).generate_data_pipe(train_df, target_df,\n",
    "                                          test_df, deep_copy=True, only_adversarial=False, use_adversarial=True)"
   ]
  },
  {
   "cell_type": "code",
   "execution_count": 15,
   "id": "e96be75b-0d57-4065-9d96-41de07f7e61e",
   "metadata": {},
   "outputs": [],
   "source": [
    "adgraph_model_path = './model/model_0.joblib'\n",
    "adgraph_model = joblib.load(adgraph_model_path)\n",
    "tmp = adgraph_model.predict(new_train3.reset_index())"
   ]
  },
  {
   "cell_type": "code",
   "execution_count": 16,
   "id": "0e8976ce-ac9f-4083-b98b-b922898b12e7",
   "metadata": {},
   "outputs": [
    {
     "name": "stdout",
     "output_type": "stream",
     "text": [
      "0.732571794598057\n",
      "0.7121826537884932\n",
      "0.8972350373099669\n",
      "0.7940700956347793\n",
      "0.267428205401943\n"
     ]
    }
   ],
   "source": [
    "metrics(new_target3, tmp) # accu prec recl f1-sc"
   ]
  },
  {
   "cell_type": "code",
   "execution_count": 17,
   "id": "ddfe1c14-02b6-4cb9-b1a2-2f7290dfe4d2",
   "metadata": {},
   "outputs": [
    {
     "data": {
      "text/plain": [
       "0.8208126032623237"
      ]
     },
     "execution_count": 17,
     "metadata": {},
     "output_type": "execute_result"
    }
   ],
   "source": [
    "y_pred_proba = adgraph_model.predict_proba(new_train3.reset_index())[:,1]\n",
    "roc_auc_score(new_target3, y_pred_proba)"
   ]
  },
  {
   "cell_type": "code",
   "execution_count": 20,
   "id": "c302eb28-2550-45ff-b1ec-4662472d1344",
   "metadata": {},
   "outputs": [],
   "source": [
    "pd.concat([new_train3, new_target3], axis=1).to_csv('./dataset/GAN_mutated_AdGraph.csv')"
   ]
  },
  {
   "cell_type": "code",
   "execution_count": null,
   "id": "c7155b89-0983-4847-b666-c83cd0ae9dde",
   "metadata": {},
   "outputs": [],
   "source": [
    "# mut_ad_df = pd.concat([new_train3, new_target3], axis=1)"
   ]
  },
  {
   "cell_type": "code",
   "execution_count": null,
   "id": "5239200a-42f3-4725-98ac-f8eb348c979a",
   "metadata": {},
   "outputs": [],
   "source": [
    "# mut_ad_df.to_csv('/data/kiho/webtrack/feature_extracted/adgraph/mut_ad_df.csv')"
   ]
  },
  {
   "cell_type": "markdown",
   "id": "d716b156-253f-431b-9e19-1968b1192769",
   "metadata": {},
   "source": [
    "## WebGraph"
   ]
  },
  {
   "cell_type": "code",
   "execution_count": 21,
   "id": "b57bca5f-f674-4431-acca-abfdd1957433",
   "metadata": {},
   "outputs": [],
   "source": [
    "data_df = pd.read_csv('./dataset/web_features.csv', index_col=[0])\n",
    "label_df = pd.read_csv('./dataset/web_labelled.csv', index_col=[0])\n",
    "data_df = data_df.reset_index(drop=True)\n",
    "label_df = label_df.reset_index(drop=True)\n",
    "# label_df = label_df['label']\n",
    "# data_df = pd.concat([data_df, label_df], axis = 1)\n",
    "df_labelled = data_df.merge(label_df[['visit_id', 'name', 'label']], on=['visit_id', 'name'])\n",
    "df_labelled = df_labelled[df_labelled['label'] != \"Error\"]\n",
    "# te = TargetEncoder()\n",
    "# df_labelled['content_policy_type'] = te.fit_transform(df_labelled['content_policy_type'], df_labelled.label)"
   ]
  },
  {
   "cell_type": "code",
   "execution_count": 29,
   "id": "b3d2cd80-79eb-4220-9688-7fdd509a37af",
   "metadata": {},
   "outputs": [
    {
     "data": {
      "application/vnd.jupyter.widget-view+json": {
       "model_id": "e171db832d3841228d1e53da7e92cc00",
       "version_major": 2,
       "version_minor": 0
      },
      "text/plain": [
       "Fitting CTGAN transformers for each column:   0%|          | 0/60 [00:00<?, ?it/s]"
      ]
     },
     "metadata": {},
     "output_type": "display_data"
    },
    {
     "data": {
      "application/vnd.jupyter.widget-view+json": {
       "model_id": "73dfc5ea3e3e421aa3a9edc38b4f4102",
       "version_major": 2,
       "version_minor": 0
      },
      "text/plain": [
       "Training CTGAN, epochs::   0%|          | 0/50 [00:00<?, ?it/s]"
      ]
     },
     "metadata": {},
     "output_type": "display_data"
    }
   ],
   "source": [
    "df_ = df_labelled[df_labelled.columns[2:]].sample(frac=1)\n",
    "train, test = train_test_split(df_, test_size = 0.2, shuffle = True)\n",
    "# random input data\n",
    "train_df = train[train.columns[:-1]]\n",
    "target_df = pd.DataFrame(train['label'])\n",
    "test_df = test[test.columns[:-1]]\n",
    "\n",
    "# generate data\n",
    "# new_train1, new_target1 = OriginalGenerator().generate_data_pipe(train_df, target_df, test_df, )\n",
    "# new_train2, new_target2 = GANGenerator().generate_data_pipe(train_df, target_df, test_df, )\n",
    "\n",
    "# example with all params defined\n",
    "new_train3, new_target3 = GANGenerator(gen_x_times=1.1, cat_cols=None,\n",
    "           bot_filter_quantile=0.001, top_filter_quantile=0.999, is_post_process=True,\n",
    "           adversarial_model_params={\n",
    "               \"metrics\": \"AUC\", \"max_depth\": 2, \"max_bin\": 100, \n",
    "               \"learning_rate\": 0.02, \"random_state\": 42, \"n_estimators\": 100,\n",
    "           }, pregeneration_frac=2, only_generated_data=False,\n",
    "           gan_params = {\"batch_size\": 2000, \"patience\": 25, \"epochs\" : 50,}).generate_data_pipe(train_df, target_df,\n",
    "                                          test_df, deep_copy=True, only_adversarial=False, use_adversarial=True)"
   ]
  },
  {
   "cell_type": "code",
   "execution_count": 30,
   "id": "379f9708-dfa9-4ae4-ad4a-42f0d50d9756",
   "metadata": {},
   "outputs": [],
   "source": [
    "# new_train3.reset_index(inplace=True)"
   ]
  },
  {
   "cell_type": "code",
   "execution_count": 37,
   "id": "f201db9a-dac4-47f2-9916-06783e0dcc67",
   "metadata": {},
   "outputs": [],
   "source": [
    "webgraph_model_path = './model/web_graph_model.joblib'\n",
    "webgraph_model = joblib.load(webgraph_model_path)\n",
    "tmp = webgraph_model.predict(new_train3[new_train3.columns[:]])"
   ]
  },
  {
   "cell_type": "code",
   "execution_count": 40,
   "id": "36faeb92-0778-48bf-8bbf-b9687872a423",
   "metadata": {},
   "outputs": [],
   "source": [
    "pd.concat([new_train3, new_target3], axis=1).to_csv('./dataset/GAN_mutated_WebGraph.csv')"
   ]
  },
  {
   "cell_type": "code",
   "execution_count": 112,
   "id": "48b58002-24b5-4ea3-93f8-0bfc0ed27e1d",
   "metadata": {},
   "outputs": [
    {
     "name": "stdout",
     "output_type": "stream",
     "text": [
      "0.8946204509398586\n",
      "0.8843035284907454\n",
      "0.8723040432456286\n",
      "0.8782628012884595\n",
      "0.10537954906014134\n"
     ]
    }
   ],
   "source": [
    "metrics(new_target3, tmp) # accu prec recl f1-sc ASR"
   ]
  },
  {
   "cell_type": "code",
   "execution_count": 113,
   "id": "004d5b46-9443-4365-b337-f50c7056f1f8",
   "metadata": {},
   "outputs": [
    {
     "data": {
      "text/plain": [
       "0.9612457986728018"
      ]
     },
     "execution_count": 113,
     "metadata": {},
     "output_type": "execute_result"
    }
   ],
   "source": [
    "y_pred_proba = webgraph_model.predict_proba(new_train3)[:,1]\n",
    "roc_auc_score(new_target3, y_pred_proba)"
   ]
  },
  {
   "cell_type": "markdown",
   "id": "be713cc5-88a1-4bfa-ae40-d464522b73bb",
   "metadata": {},
   "source": [
    "## De-Adlock"
   ]
  },
  {
   "cell_type": "code",
   "execution_count": 122,
   "id": "06d290c4-78fd-439a-8aaf-6772f83135ac",
   "metadata": {},
   "outputs": [
    {
     "data": {
      "application/vnd.jupyter.widget-view+json": {
       "model_id": "2af0606912334d4e86a8b3f14d68027c",
       "version_major": 2,
       "version_minor": 0
      },
      "text/plain": [
       "Fitting CTGAN transformers for each column:   0%|          | 0/28 [00:00<?, ?it/s]"
      ]
     },
     "metadata": {},
     "output_type": "display_data"
    },
    {
     "data": {
      "application/vnd.jupyter.widget-view+json": {
       "model_id": "f7cd0fc37cab431387757fd1f93cb9e9",
       "version_major": 2,
       "version_minor": 0
      },
      "text/plain": [
       "Training CTGAN, epochs::   0%|          | 0/50 [00:00<?, ?it/s]"
      ]
     },
     "metadata": {},
     "output_type": "display_data"
    }
   ],
   "source": [
    "df_labelled = pd.read_csv('./RFECV_27_0525.csv', index_col=[0])\n",
    "                          \n",
    "df_ = df_labelled[df_labelled.columns[2:]].sample(frac=1)\n",
    "train, test = train_test_split(df_, test_size = 0.2, shuffle = True)\n",
    "# random input data\n",
    "train_df = train[train.columns[:-1]]\n",
    "target_df = pd.DataFrame(train['label'])\n",
    "test_df = test[test.columns[:-1]]\n",
    "\n",
    "# generate data\n",
    "# new_train1, new_target1 = OriginalGenerator().generate_data_pipe(train_df, target_df, test_df, )\n",
    "# new_train2, new_target2 = GANGenerator().generate_data_pipe(train_df, target_df, test_df, )\n",
    "\n",
    "# example with all params defined\n",
    "new_train3, new_target3 = GANGenerator(gen_x_times=1.1, cat_cols=None,\n",
    "           bot_filter_quantile=0.001, top_filter_quantile=0.999, is_post_process=True,\n",
    "           adversarial_model_params={\n",
    "               \"metrics\": \"AUC\", \"max_depth\": 2, \"max_bin\": 100, \n",
    "               \"learning_rate\": 0.02, \"random_state\": 42, \"n_estimators\": 100,\n",
    "           }, pregeneration_frac=2, only_generated_data=False,\n",
    "           gan_params = {\"batch_size\": 2000, \"patience\": 25, \"epochs\" : 50,}).generate_data_pipe(train_df, target_df,\n",
    "                                          test_df, deep_copy=True, only_adversarial=False, use_adversarial=True)"
   ]
  },
  {
   "cell_type": "code",
   "execution_count": 123,
   "id": "e2fe6997-46d0-44bd-a3eb-a0a0ee668f44",
   "metadata": {},
   "outputs": [],
   "source": [
    "model = onnx.load('./model/De-Adlock.onnx')\n",
    "# Check that the IR is well formed\n",
    "onnx.checker.check_model(model)\n",
    "# Create an ONNX runtime session\n",
    "ort_session = ort.InferenceSession('./model/De-Adlock.onnx')\n",
    "input_data = new_train3.values.astype('float32')\n",
    "input_name = ort_session.get_inputs()[0].name\n",
    "\n",
    "# Run the inference session to get the prediction results\n",
    "tmp = ort_session.run(None, {input_name: input_data})"
   ]
  },
  {
   "cell_type": "code",
   "execution_count": 124,
   "id": "c7ea89ea-6a48-41b8-be2b-0954fbe980f5",
   "metadata": {},
   "outputs": [],
   "source": [
    "true = np.where(np.array(new_target3) > 0.5, 1, 0)\n",
    "pred = pd.Series(tmp[0].astype(int), name='pred')"
   ]
  },
  {
   "cell_type": "code",
   "execution_count": 125,
   "id": "149b55f0-7bbc-4197-9932-765491e645e0",
   "metadata": {},
   "outputs": [
    {
     "name": "stdout",
     "output_type": "stream",
     "text": [
      "0.9478501868849958\n",
      "0.9511280668289154\n",
      "0.9170471841704718\n",
      "0.9337767589034903\n",
      "0.0521498131150042\n"
     ]
    },
    {
     "data": {
      "text/plain": [
       "0.9427560100640994"
      ]
     },
     "execution_count": 125,
     "metadata": {},
     "output_type": "execute_result"
    }
   ],
   "source": [
    "label_name = ort_session.get_outputs()[0].name\n",
    "pred_onx = ort_session.run([label_name], {input_name: input_data})[0]\n",
    "metrics(true, pred) # accu prec recl f1-sc\n",
    "# y_pred_proba = model.predict_proba(pred_onx)[:,1]\n",
    "roc_auc_score(true, pred_onx.astype('float64'))"
   ]
  },
  {
   "cell_type": "code",
   "execution_count": 12,
   "id": "761e744f-adf4-471e-a1e3-8b622772c80a",
   "metadata": {
    "tags": []
   },
   "outputs": [
    {
     "data": {
      "application/vnd.jupyter.widget-view+json": {
       "model_id": "c70e91e4ff2f454d8f28b1d385b5a9d6",
       "version_major": 2,
       "version_minor": 0
      },
      "text/plain": [
       "Fitting CTGAN transformers for each column:   0%|          | 0/28 [00:00<?, ?it/s]"
      ]
     },
     "metadata": {},
     "output_type": "display_data"
    },
    {
     "data": {
      "application/vnd.jupyter.widget-view+json": {
       "model_id": "e344bee351004eecaf0f553ad4c94bac",
       "version_major": 2,
       "version_minor": 0
      },
      "text/plain": [
       "Training CTGAN, epochs::   0%|          | 0/50 [00:00<?, ?it/s]"
      ]
     },
     "metadata": {},
     "output_type": "display_data"
    }
   ],
   "source": [
    "df_labelled = pd.read_csv('./dataset/testset.csv', index_col=[0])\n",
    "                          \n",
    "df_ = df_labelled[df_labelled.columns[2:]].sample(frac=1)\n",
    "train, test = train_test_split(df_, test_size = 0.2, shuffle = True)\n",
    "# random input data\n",
    "train_df = train[train.columns[:-1]]\n",
    "target_df = pd.DataFrame(train['label'])\n",
    "test_df = test[test.columns[:-1]]\n",
    "\n",
    "# generate data\n",
    "# new_train1, new_target1 = OriginalGenerator().generate_data_pipe(train_df, target_df, test_df, )\n",
    "# new_train2, new_target2 = GANGenerator().generate_data_pipe(train_df, target_df, test_df, )\n",
    "\n",
    "# example with all params defined\n",
    "new_train3, new_target3 = GANGenerator(gen_x_times=1.1, cat_cols=None,\n",
    "           bot_filter_quantile=0.001, top_filter_quantile=0.999, is_post_process=True,\n",
    "           adversarial_model_params={\n",
    "               \"metrics\": \"AUC\", \"max_depth\": 2, \"max_bin\": 100, \n",
    "               \"learning_rate\": 0.02, \"random_state\": 42, \"n_estimators\": 100,\n",
    "           }, pregeneration_frac=2, only_generated_data=False,\n",
    "           gan_params = {\"batch_size\": 2000, \"patience\": 25, \"epochs\" : 50,}).generate_data_pipe(train_df, target_df,\n",
    "                                          test_df, deep_copy=True, only_adversarial=False, use_adversarial=True)"
   ]
  },
  {
   "cell_type": "code",
   "execution_count": 183,
   "id": "5d79afac-76c9-46c0-a0f0-d40b01109ca4",
   "metadata": {
    "collapsed": true,
    "jupyter": {
     "outputs_hidden": true
    },
    "tags": []
   },
   "outputs": [
    {
     "name": "stdout",
     "output_type": "stream",
     "text": [
      "Checking whether there is an H2O instance running at http://localhost:54321..... not found.\n",
      "Attempting to start a local H2O server...\n",
      "  Java Version: openjdk version \"11.0.18\" 2023-01-17; OpenJDK Runtime Environment (build 11.0.18+10-post-Ubuntu-0ubuntu118.04.1); OpenJDK 64-Bit Server VM (build 11.0.18+10-post-Ubuntu-0ubuntu118.04.1, mixed mode, sharing)\n",
      "  Starting server from /data/kiho/mambaforge/envs/autocomplete/lib/python3.9/site-packages/h2o/backend/bin/h2o.jar\n",
      "  Ice root: /tmp/tmpve10p792\n",
      "  JVM stdout: /tmp/tmpve10p792/h2o_kiho_started_from_python.out\n",
      "  JVM stderr: /tmp/tmpve10p792/h2o_kiho_started_from_python.err\n",
      "  Server is running at http://127.0.0.1:54321\n",
      "Connecting to H2O server at http://127.0.0.1:54321 ... successful.\n",
      "Warning: Your H2O cluster version is (3 months and 15 days) old.  There may be a newer version available.\n",
      "Please download and install the latest version from: https://h2o-release.s3.amazonaws.com/h2o/latest_stable.html\n"
     ]
    },
    {
     "data": {
      "text/html": [
       "\n",
       "<style>\n",
       "\n",
       "#h2o-table-1.h2o-container {\n",
       "  overflow-x: auto;\n",
       "}\n",
       "#h2o-table-1 .h2o-table {\n",
       "  /* width: 100%; */\n",
       "  margin-top: 1em;\n",
       "  margin-bottom: 1em;\n",
       "}\n",
       "#h2o-table-1 .h2o-table caption {\n",
       "  white-space: nowrap;\n",
       "  caption-side: top;\n",
       "  text-align: left;\n",
       "  /* margin-left: 1em; */\n",
       "  margin: 0;\n",
       "  font-size: larger;\n",
       "}\n",
       "#h2o-table-1 .h2o-table thead {\n",
       "  white-space: nowrap; \n",
       "  position: sticky;\n",
       "  top: 0;\n",
       "  box-shadow: 0 -1px inset;\n",
       "}\n",
       "#h2o-table-1 .h2o-table tbody {\n",
       "  overflow: auto;\n",
       "}\n",
       "#h2o-table-1 .h2o-table th,\n",
       "#h2o-table-1 .h2o-table td {\n",
       "  text-align: right;\n",
       "  /* border: 1px solid; */\n",
       "}\n",
       "#h2o-table-1 .h2o-table tr:nth-child(even) {\n",
       "  /* background: #F5F5F5 */\n",
       "}\n",
       "\n",
       "</style>      \n",
       "<div id=\"h2o-table-1\" class=\"h2o-container\">\n",
       "  <table class=\"h2o-table\">\n",
       "    <caption></caption>\n",
       "    <thead></thead>\n",
       "    <tbody><tr><td>H2O_cluster_uptime:</td>\n",
       "<td>01 secs</td></tr>\n",
       "<tr><td>H2O_cluster_timezone:</td>\n",
       "<td>Asia/Seoul</td></tr>\n",
       "<tr><td>H2O_data_parsing_timezone:</td>\n",
       "<td>UTC</td></tr>\n",
       "<tr><td>H2O_cluster_version:</td>\n",
       "<td>3.40.0.2</td></tr>\n",
       "<tr><td>H2O_cluster_version_age:</td>\n",
       "<td>3 months and 15 days</td></tr>\n",
       "<tr><td>H2O_cluster_name:</td>\n",
       "<td>H2O_from_python_kiho_s70525</td></tr>\n",
       "<tr><td>H2O_cluster_total_nodes:</td>\n",
       "<td>1</td></tr>\n",
       "<tr><td>H2O_cluster_free_memory:</td>\n",
       "<td>29.97 Gb</td></tr>\n",
       "<tr><td>H2O_cluster_total_cores:</td>\n",
       "<td>40</td></tr>\n",
       "<tr><td>H2O_cluster_allowed_cores:</td>\n",
       "<td>40</td></tr>\n",
       "<tr><td>H2O_cluster_status:</td>\n",
       "<td>locked, healthy</td></tr>\n",
       "<tr><td>H2O_connection_url:</td>\n",
       "<td>http://127.0.0.1:54321</td></tr>\n",
       "<tr><td>H2O_connection_proxy:</td>\n",
       "<td>{\"http\": null, \"https\": null}</td></tr>\n",
       "<tr><td>H2O_internal_security:</td>\n",
       "<td>False</td></tr>\n",
       "<tr><td>Python_version:</td>\n",
       "<td>3.9.15 final</td></tr></tbody>\n",
       "  </table>\n",
       "</div>\n"
      ],
      "text/plain": [
       "--------------------------  -----------------------------\n",
       "H2O_cluster_uptime:         01 secs\n",
       "H2O_cluster_timezone:       Asia/Seoul\n",
       "H2O_data_parsing_timezone:  UTC\n",
       "H2O_cluster_version:        3.40.0.2\n",
       "H2O_cluster_version_age:    3 months and 15 days\n",
       "H2O_cluster_name:           H2O_from_python_kiho_s70525\n",
       "H2O_cluster_total_nodes:    1\n",
       "H2O_cluster_free_memory:    29.97 Gb\n",
       "H2O_cluster_total_cores:    40\n",
       "H2O_cluster_allowed_cores:  40\n",
       "H2O_cluster_status:         locked, healthy\n",
       "H2O_connection_url:         http://127.0.0.1:54321\n",
       "H2O_connection_proxy:       {\"http\": null, \"https\": null}\n",
       "H2O_internal_security:      False\n",
       "Python_version:             3.9.15 final\n",
       "--------------------------  -----------------------------"
      ]
     },
     "metadata": {},
     "output_type": "display_data"
    }
   ],
   "source": [
    "import h2o\n",
    "h2o.init()"
   ]
  },
  {
   "cell_type": "code",
   "execution_count": 185,
   "id": "17a5358e-f736-42ad-941b-7ca73eb46eba",
   "metadata": {},
   "outputs": [
    {
     "name": "stdout",
     "output_type": "stream",
     "text": [
      "generic Model Build progress: |██████████████████████████████████████████████████| (done) 100%\n"
     ]
    }
   ],
   "source": [
    "path = './model/De-Adlock_mojo.zip'\n",
    "h2o_model = h2o.import_mojo(path)"
   ]
  },
  {
   "cell_type": "code",
   "execution_count": 186,
   "id": "9a07cc1f-21c9-4dc9-8f89-e9705cca0388",
   "metadata": {},
   "outputs": [
    {
     "name": "stdout",
     "output_type": "stream",
     "text": [
      "Parse progress: |████████████████████████████████████████████████████████████████| (done) 100%\n"
     ]
    }
   ],
   "source": [
    "h2o_new_train = h2o.H2OFrame(new_train3)"
   ]
  },
  {
   "cell_type": "code",
   "execution_count": 188,
   "id": "e80b177e-5174-491c-98f3-f75dfef64dbe",
   "metadata": {},
   "outputs": [
    {
     "name": "stdout",
     "output_type": "stream",
     "text": [
      "generic prediction progress: |███████████████████████████████████████████████████| (done) 100%\n"
     ]
    }
   ],
   "source": [
    "pred = h2o_model.predict(h2o_new_train)"
   ]
  },
  {
   "cell_type": "code",
   "execution_count": 195,
   "id": "c287b350-b178-4b3e-b187-6a83eebd19db",
   "metadata": {},
   "outputs": [],
   "source": [
    "pred = pred.as_data_frame().predict.to_list()"
   ]
  },
  {
   "cell_type": "code",
   "execution_count": 200,
   "id": "f298e5e2-e121-456d-9fd9-cc660861c656",
   "metadata": {},
   "outputs": [
    {
     "name": "stdout",
     "output_type": "stream",
     "text": [
      "0.9619014761329752\n",
      "0.9642924380294948\n",
      "0.940219054029248\n",
      "0.9521035999752153\n",
      "0.038098523867024815\n"
     ]
    },
    {
     "data": {
      "text/plain": [
       "0.9583707912496463"
      ]
     },
     "execution_count": 200,
     "metadata": {},
     "output_type": "execute_result"
    }
   ],
   "source": [
    "metrics(true, pred) # accu prec recl f1-sc\n",
    "# y_pred_proba = model.predict_proba(pred_onx)[:,1]\n",
    "roc_auc_score(true, pred)"
   ]
  }
 ],
 "metadata": {
  "kernelspec": {
   "display_name": "Python 3 (ipykernel)",
   "language": "python",
   "name": "python3"
  },
  "language_info": {
   "codemirror_mode": {
    "name": "ipython",
    "version": 3
   },
   "file_extension": ".py",
   "mimetype": "text/x-python",
   "name": "python",
   "nbconvert_exporter": "python",
   "pygments_lexer": "ipython3",
   "version": "3.9.13"
  }
 },
 "nbformat": 4,
 "nbformat_minor": 5
}
